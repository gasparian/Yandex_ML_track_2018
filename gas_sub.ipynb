{
 "cells": [
  {
   "cell_type": "code",
   "execution_count": 1,
   "metadata": {
    "collapsed": true
   },
   "outputs": [],
   "source": [
    "import pandas as pd\n",
    "import numpy as np"
   ]
  },
  {
   "cell_type": "code",
   "execution_count": 2,
   "metadata": {
    "collapsed": true
   },
   "outputs": [],
   "source": [
    "path = '/home/gas/Documents/Yandex_ML_track_2018/'"
   ]
  },
  {
   "cell_type": "code",
   "execution_count": 3,
   "metadata": {
    "collapsed": true
   },
   "outputs": [],
   "source": [
    "train = pd.read_csv(path+'data/train.tsv', sep='\\t', quoting=3, header=None)\n",
    "test = pd.read_csv(path+'data/public.tsv', sep='\\t', quoting=3, error_bad_lines=False, header=None)"
   ]
  },
  {
   "cell_type": "code",
   "execution_count": 4,
   "metadata": {},
   "outputs": [
    {
     "name": "stdout",
     "output_type": "stream",
     "text": [
      "<class 'pandas.core.frame.DataFrame'>\n",
      "RangeIndex: 97533 entries, 0 to 97532\n",
      "Data columns (total 8 columns):\n",
      "0    97533 non-null int64\n",
      "1    48559 non-null object\n",
      "2    72502 non-null object\n",
      "3    97533 non-null object\n",
      "4    97533 non-null int64\n",
      "5    97533 non-null object\n",
      "6    97533 non-null object\n",
      "7    97533 non-null float64\n",
      "dtypes: float64(1), int64(2), object(5)\n",
      "memory usage: 6.0+ MB\n"
     ]
    }
   ],
   "source": [
    "train.info()"
   ]
  },
  {
   "cell_type": "code",
   "execution_count": 5,
   "metadata": {
    "collapsed": true
   },
   "outputs": [],
   "source": [
    "train.fillna('', inplace=True)\n",
    "test.fillna('', inplace=True)"
   ]
  },
  {
   "cell_type": "code",
   "execution_count": 6,
   "metadata": {
    "collapsed": true
   },
   "outputs": [],
   "source": [
    "# расставляем значения по формуле хорошесть * confidence\n",
    "# Good (3)\n",
    "# Neutral (2)\n",
    "# Bad (1)"
   ]
  },
  {
   "cell_type": "code",
   "execution_count": 7,
   "metadata": {
    "collapsed": true
   },
   "outputs": [],
   "source": [
    "def rank2num(st):\n",
    "    if st == 'good':\n",
    "        return 3\n",
    "    else:\n",
    "        if st == 'neutral':\n",
    "            return 2\n",
    "        else:\n",
    "            return 1"
   ]
  },
  {
   "cell_type": "code",
   "execution_count": 8,
   "metadata": {},
   "outputs": [
    {
     "data": {
      "text/html": [
       "<div>\n",
       "<style>\n",
       "    .dataframe thead tr:only-child th {\n",
       "        text-align: right;\n",
       "    }\n",
       "\n",
       "    .dataframe thead th {\n",
       "        text-align: left;\n",
       "    }\n",
       "\n",
       "    .dataframe tbody tr th {\n",
       "        vertical-align: top;\n",
       "    }\n",
       "</style>\n",
       "<table border=\"1\" class=\"dataframe\">\n",
       "  <thead>\n",
       "    <tr style=\"text-align: right;\">\n",
       "      <th></th>\n",
       "      <th>0</th>\n",
       "      <th>1</th>\n",
       "      <th>2</th>\n",
       "      <th>3</th>\n",
       "      <th>4</th>\n",
       "      <th>5</th>\n",
       "      <th>6</th>\n",
       "      <th>7</th>\n",
       "      <th>rank</th>\n",
       "      <th>target</th>\n",
       "    </tr>\n",
       "  </thead>\n",
       "  <tbody>\n",
       "    <tr>\n",
       "      <th>0</th>\n",
       "      <td>22579918886</td>\n",
       "      <td>кликни на меня а потом на надпись \" видео - зв...</td>\n",
       "      <td>о , я тебя вижу .</td>\n",
       "      <td>ладно , повесь трубку .</td>\n",
       "      <td>0</td>\n",
       "      <td>не могу .</td>\n",
       "      <td>good</td>\n",
       "      <td>0.875352</td>\n",
       "      <td>3</td>\n",
       "      <td>2.626055</td>\n",
       "    </tr>\n",
       "    <tr>\n",
       "      <th>1</th>\n",
       "      <td>22579918886</td>\n",
       "      <td>кликни на меня а потом на надпись \" видео - зв...</td>\n",
       "      <td>о , я тебя вижу .</td>\n",
       "      <td>ладно , повесь трубку .</td>\n",
       "      <td>1</td>\n",
       "      <td>нет , звонить буду я .</td>\n",
       "      <td>neutral</td>\n",
       "      <td>0.900968</td>\n",
       "      <td>2</td>\n",
       "      <td>1.801936</td>\n",
       "    </tr>\n",
       "    <tr>\n",
       "      <th>2</th>\n",
       "      <td>22579918886</td>\n",
       "      <td>кликни на меня а потом на надпись \" видео - зв...</td>\n",
       "      <td>о , я тебя вижу .</td>\n",
       "      <td>ладно , повесь трубку .</td>\n",
       "      <td>2</td>\n",
       "      <td>слушай , я не мог уйти .</td>\n",
       "      <td>bad</td>\n",
       "      <td>0.884320</td>\n",
       "      <td>1</td>\n",
       "      <td>0.884320</td>\n",
       "    </tr>\n",
       "    <tr>\n",
       "      <th>3</th>\n",
       "      <td>22579918886</td>\n",
       "      <td>кликни на меня а потом на надпись \" видео - зв...</td>\n",
       "      <td>о , я тебя вижу .</td>\n",
       "      <td>ладно , повесь трубку .</td>\n",
       "      <td>3</td>\n",
       "      <td>я не прекращу звонить .</td>\n",
       "      <td>good</td>\n",
       "      <td>0.982530</td>\n",
       "      <td>3</td>\n",
       "      <td>2.947591</td>\n",
       "    </tr>\n",
       "    <tr>\n",
       "      <th>4</th>\n",
       "      <td>22579918886</td>\n",
       "      <td>кликни на меня а потом на надпись \" видео - зв...</td>\n",
       "      <td>о , я тебя вижу .</td>\n",
       "      <td>ладно , повесь трубку .</td>\n",
       "      <td>4</td>\n",
       "      <td>я звоню им .</td>\n",
       "      <td>good</td>\n",
       "      <td>0.838054</td>\n",
       "      <td>3</td>\n",
       "      <td>2.514161</td>\n",
       "    </tr>\n",
       "  </tbody>\n",
       "</table>\n",
       "</div>"
      ],
      "text/plain": [
       "             0                                                  1  \\\n",
       "0  22579918886  кликни на меня а потом на надпись \" видео - зв...   \n",
       "1  22579918886  кликни на меня а потом на надпись \" видео - зв...   \n",
       "2  22579918886  кликни на меня а потом на надпись \" видео - зв...   \n",
       "3  22579918886  кликни на меня а потом на надпись \" видео - зв...   \n",
       "4  22579918886  кликни на меня а потом на надпись \" видео - зв...   \n",
       "\n",
       "                   2                        3  4                         5  \\\n",
       "0  о , я тебя вижу .  ладно , повесь трубку .  0                 не могу .   \n",
       "1  о , я тебя вижу .  ладно , повесь трубку .  1    нет , звонить буду я .   \n",
       "2  о , я тебя вижу .  ладно , повесь трубку .  2  слушай , я не мог уйти .   \n",
       "3  о , я тебя вижу .  ладно , повесь трубку .  3   я не прекращу звонить .   \n",
       "4  о , я тебя вижу .  ладно , повесь трубку .  4              я звоню им .   \n",
       "\n",
       "         6         7  rank    target  \n",
       "0     good  0.875352     3  2.626055  \n",
       "1  neutral  0.900968     2  1.801936  \n",
       "2      bad  0.884320     1  0.884320  \n",
       "3     good  0.982530     3  2.947591  \n",
       "4     good  0.838054     3  2.514161  "
      ]
     },
     "execution_count": 8,
     "metadata": {},
     "output_type": "execute_result"
    }
   ],
   "source": [
    "train['rank'] = train[6].apply(rank2num)\n",
    "train['target'] = train['rank'] * train[7]\n",
    "train.head()"
   ]
  },
  {
   "cell_type": "code",
   "execution_count": 9,
   "metadata": {},
   "outputs": [
    {
     "data": {
      "text/html": [
       "<div>\n",
       "<style>\n",
       "    .dataframe thead tr:only-child th {\n",
       "        text-align: right;\n",
       "    }\n",
       "\n",
       "    .dataframe thead th {\n",
       "        text-align: left;\n",
       "    }\n",
       "\n",
       "    .dataframe tbody tr th {\n",
       "        vertical-align: top;\n",
       "    }\n",
       "</style>\n",
       "<table border=\"1\" class=\"dataframe\">\n",
       "  <thead>\n",
       "    <tr style=\"text-align: right;\">\n",
       "      <th></th>\n",
       "      <th>0</th>\n",
       "      <th>1</th>\n",
       "      <th>2</th>\n",
       "      <th>3</th>\n",
       "      <th>4</th>\n",
       "      <th>5</th>\n",
       "    </tr>\n",
       "  </thead>\n",
       "  <tbody>\n",
       "    <tr>\n",
       "      <th>0</th>\n",
       "      <td>138920940977</td>\n",
       "      <td>знаешь , я иногда подумываю , что тебе надо пр...</td>\n",
       "      <td>не - а .</td>\n",
       "      <td>нет ?</td>\n",
       "      <td>0</td>\n",
       "      <td>неа .</td>\n",
       "    </tr>\n",
       "    <tr>\n",
       "      <th>1</th>\n",
       "      <td>138920940977</td>\n",
       "      <td>знаешь , я иногда подумываю , что тебе надо пр...</td>\n",
       "      <td>не - а .</td>\n",
       "      <td>нет ?</td>\n",
       "      <td>1</td>\n",
       "      <td>нет , не хочу .</td>\n",
       "    </tr>\n",
       "    <tr>\n",
       "      <th>2</th>\n",
       "      <td>138920940977</td>\n",
       "      <td>знаешь , я иногда подумываю , что тебе надо пр...</td>\n",
       "      <td>не - а .</td>\n",
       "      <td>нет ?</td>\n",
       "      <td>2</td>\n",
       "      <td>нет .</td>\n",
       "    </tr>\n",
       "    <tr>\n",
       "      <th>3</th>\n",
       "      <td>138920940977</td>\n",
       "      <td>знаешь , я иногда подумываю , что тебе надо пр...</td>\n",
       "      <td>не - а .</td>\n",
       "      <td>нет ?</td>\n",
       "      <td>3</td>\n",
       "      <td>конечно , нет .</td>\n",
       "    </tr>\n",
       "    <tr>\n",
       "      <th>4</th>\n",
       "      <td>138920940977</td>\n",
       "      <td>знаешь , я иногда подумываю , что тебе надо пр...</td>\n",
       "      <td>не - а .</td>\n",
       "      <td>нет ?</td>\n",
       "      <td>4</td>\n",
       "      <td>разумеется , нет .</td>\n",
       "    </tr>\n",
       "  </tbody>\n",
       "</table>\n",
       "</div>"
      ],
      "text/plain": [
       "              0                                                  1         2  \\\n",
       "0  138920940977  знаешь , я иногда подумываю , что тебе надо пр...  не - а .   \n",
       "1  138920940977  знаешь , я иногда подумываю , что тебе надо пр...  не - а .   \n",
       "2  138920940977  знаешь , я иногда подумываю , что тебе надо пр...  не - а .   \n",
       "3  138920940977  знаешь , я иногда подумываю , что тебе надо пр...  не - а .   \n",
       "4  138920940977  знаешь , я иногда подумываю , что тебе надо пр...  не - а .   \n",
       "\n",
       "       3  4                   5  \n",
       "0  нет ?  0               неа .  \n",
       "1  нет ?  1     нет , не хочу .  \n",
       "2  нет ?  2               нет .  \n",
       "3  нет ?  3     конечно , нет .  \n",
       "4  нет ?  4  разумеется , нет .  "
      ]
     },
     "execution_count": 9,
     "metadata": {},
     "output_type": "execute_result"
    }
   ],
   "source": [
    "test.head()"
   ]
  },
  {
   "cell_type": "code",
   "execution_count": 10,
   "metadata": {},
   "outputs": [
    {
     "name": "stderr",
     "output_type": "stream",
     "text": [
      "/home/gas/anaconda3/lib/python3.6/site-packages/h5py/__init__.py:34: FutureWarning: Conversion of the second argument of issubdtype from `float` to `np.floating` is deprecated. In future, it will be treated as `np.float64 == np.dtype(float).type`.\n",
      "  from ._conv import register_converters as _register_converters\n",
      "Using TensorFlow backend.\n"
     ]
    }
   ],
   "source": [
    "import nltk\n",
    "#nltk.download('wordnet')\n",
    "\n",
    "from collections import OrderedDict\n",
    "from gensim.utils import deaccent\n",
    "import operator\n",
    "import pickle\n",
    "\n",
    "class getTokens:\n",
    "    \n",
    "    def __init__(self, garbage=['hello', 'hi', 'need', 'help', 'com', 'http', 'please', 'someone', 'etc', 'www']):\n",
    "        self.tokenizer = nltk.RegexpTokenizer('\\w+')        \n",
    "        self.lmtzr = nltk.stem.wordnet.WordNetLemmatizer()\n",
    "        self.garbage = set(garbage)\n",
    "    \n",
    "    def transform(self, text):\n",
    "        text = self.tokenizer.tokenize(text)\n",
    "        text = [self.lmtzr.lemmatize(deaccent(word.lower())) for word in text]\n",
    "        text = [word for word in text if len(word) > 1 and word not in self.garbage]\n",
    "        return ' '.join(text)"
   ]
  },
  {
   "cell_type": "code",
   "execution_count": 11,
   "metadata": {
    "collapsed": true
   },
   "outputs": [],
   "source": [
    "tokenize = getTokens()"
   ]
  },
  {
   "cell_type": "code",
   "execution_count": 12,
   "metadata": {
    "collapsed": true
   },
   "outputs": [],
   "source": [
    "text_cols = [1, 2, 3, 5]"
   ]
  },
  {
   "cell_type": "code",
   "execution_count": 13,
   "metadata": {
    "collapsed": true
   },
   "outputs": [],
   "source": [
    "for col in text_cols:\n",
    "    train[col] = train[col].apply(tokenize.transform)\n",
    "    test[col] = test[col].apply(tokenize.transform)"
   ]
  },
  {
   "cell_type": "code",
   "execution_count": 20,
   "metadata": {},
   "outputs": [
    {
     "data": {
      "text/html": [
       "<div>\n",
       "<style>\n",
       "    .dataframe thead tr:only-child th {\n",
       "        text-align: right;\n",
       "    }\n",
       "\n",
       "    .dataframe thead th {\n",
       "        text-align: left;\n",
       "    }\n",
       "\n",
       "    .dataframe tbody tr th {\n",
       "        vertical-align: top;\n",
       "    }\n",
       "</style>\n",
       "<table border=\"1\" class=\"dataframe\">\n",
       "  <thead>\n",
       "    <tr style=\"text-align: right;\">\n",
       "      <th></th>\n",
       "      <th>0</th>\n",
       "      <th>1</th>\n",
       "      <th>2</th>\n",
       "      <th>3</th>\n",
       "      <th>4</th>\n",
       "      <th>5</th>\n",
       "      <th>6</th>\n",
       "      <th>7</th>\n",
       "      <th>rank</th>\n",
       "      <th>target</th>\n",
       "    </tr>\n",
       "  </thead>\n",
       "  <tbody>\n",
       "    <tr>\n",
       "      <th>0</th>\n",
       "      <td>22579918886</td>\n",
       "      <td>кликни на меня потом на надпись видео звонок</td>\n",
       "      <td>тебя вижу</td>\n",
       "      <td>ладно повесь трубку</td>\n",
       "      <td>0</td>\n",
       "      <td>не могу</td>\n",
       "      <td>good</td>\n",
       "      <td>0.875352</td>\n",
       "      <td>3</td>\n",
       "      <td>2.626055</td>\n",
       "    </tr>\n",
       "    <tr>\n",
       "      <th>1</th>\n",
       "      <td>22579918886</td>\n",
       "      <td>кликни на меня потом на надпись видео звонок</td>\n",
       "      <td>тебя вижу</td>\n",
       "      <td>ладно повесь трубку</td>\n",
       "      <td>1</td>\n",
       "      <td>нет звонить буду</td>\n",
       "      <td>neutral</td>\n",
       "      <td>0.900968</td>\n",
       "      <td>2</td>\n",
       "      <td>1.801936</td>\n",
       "    </tr>\n",
       "    <tr>\n",
       "      <th>2</th>\n",
       "      <td>22579918886</td>\n",
       "      <td>кликни на меня потом на надпись видео звонок</td>\n",
       "      <td>тебя вижу</td>\n",
       "      <td>ладно повесь трубку</td>\n",
       "      <td>2</td>\n",
       "      <td>слушаи не мог уити</td>\n",
       "      <td>bad</td>\n",
       "      <td>0.884320</td>\n",
       "      <td>1</td>\n",
       "      <td>0.884320</td>\n",
       "    </tr>\n",
       "    <tr>\n",
       "      <th>3</th>\n",
       "      <td>22579918886</td>\n",
       "      <td>кликни на меня потом на надпись видео звонок</td>\n",
       "      <td>тебя вижу</td>\n",
       "      <td>ладно повесь трубку</td>\n",
       "      <td>3</td>\n",
       "      <td>не прекращу звонить</td>\n",
       "      <td>good</td>\n",
       "      <td>0.982530</td>\n",
       "      <td>3</td>\n",
       "      <td>2.947591</td>\n",
       "    </tr>\n",
       "    <tr>\n",
       "      <th>4</th>\n",
       "      <td>22579918886</td>\n",
       "      <td>кликни на меня потом на надпись видео звонок</td>\n",
       "      <td>тебя вижу</td>\n",
       "      <td>ладно повесь трубку</td>\n",
       "      <td>4</td>\n",
       "      <td>звоню им</td>\n",
       "      <td>good</td>\n",
       "      <td>0.838054</td>\n",
       "      <td>3</td>\n",
       "      <td>2.514161</td>\n",
       "    </tr>\n",
       "  </tbody>\n",
       "</table>\n",
       "</div>"
      ],
      "text/plain": [
       "             0                                             1          2  \\\n",
       "0  22579918886  кликни на меня потом на надпись видео звонок  тебя вижу   \n",
       "1  22579918886  кликни на меня потом на надпись видео звонок  тебя вижу   \n",
       "2  22579918886  кликни на меня потом на надпись видео звонок  тебя вижу   \n",
       "3  22579918886  кликни на меня потом на надпись видео звонок  тебя вижу   \n",
       "4  22579918886  кликни на меня потом на надпись видео звонок  тебя вижу   \n",
       "\n",
       "                     3  4                    5        6         7  rank  \\\n",
       "0  ладно повесь трубку  0              не могу     good  0.875352     3   \n",
       "1  ладно повесь трубку  1     нет звонить буду  neutral  0.900968     2   \n",
       "2  ладно повесь трубку  2   слушаи не мог уити      bad  0.884320     1   \n",
       "3  ладно повесь трубку  3  не прекращу звонить     good  0.982530     3   \n",
       "4  ладно повесь трубку  4             звоню им     good  0.838054     3   \n",
       "\n",
       "     target  \n",
       "0  2.626055  \n",
       "1  1.801936  \n",
       "2  0.884320  \n",
       "3  2.947591  \n",
       "4  2.514161  "
      ]
     },
     "execution_count": 20,
     "metadata": {},
     "output_type": "execute_result"
    }
   ],
   "source": [
    "train.head()"
   ]
  },
  {
   "cell_type": "code",
   "execution_count": 21,
   "metadata": {},
   "outputs": [
    {
     "data": {
      "text/html": [
       "<div>\n",
       "<style>\n",
       "    .dataframe thead tr:only-child th {\n",
       "        text-align: right;\n",
       "    }\n",
       "\n",
       "    .dataframe thead th {\n",
       "        text-align: left;\n",
       "    }\n",
       "\n",
       "    .dataframe tbody tr th {\n",
       "        vertical-align: top;\n",
       "    }\n",
       "</style>\n",
       "<table border=\"1\" class=\"dataframe\">\n",
       "  <thead>\n",
       "    <tr style=\"text-align: right;\">\n",
       "      <th></th>\n",
       "      <th>0</th>\n",
       "      <th>1</th>\n",
       "      <th>2</th>\n",
       "      <th>3</th>\n",
       "      <th>4</th>\n",
       "      <th>5</th>\n",
       "    </tr>\n",
       "  </thead>\n",
       "  <tbody>\n",
       "    <tr>\n",
       "      <th>0</th>\n",
       "      <td>138920940977</td>\n",
       "      <td>знаешь иногда подумываю что тебе надо принести...</td>\n",
       "      <td>не</td>\n",
       "      <td>нет</td>\n",
       "      <td>0</td>\n",
       "      <td>неа</td>\n",
       "    </tr>\n",
       "    <tr>\n",
       "      <th>1</th>\n",
       "      <td>138920940977</td>\n",
       "      <td>знаешь иногда подумываю что тебе надо принести...</td>\n",
       "      <td>не</td>\n",
       "      <td>нет</td>\n",
       "      <td>1</td>\n",
       "      <td>нет не хочу</td>\n",
       "    </tr>\n",
       "    <tr>\n",
       "      <th>2</th>\n",
       "      <td>138920940977</td>\n",
       "      <td>знаешь иногда подумываю что тебе надо принести...</td>\n",
       "      <td>не</td>\n",
       "      <td>нет</td>\n",
       "      <td>2</td>\n",
       "      <td>нет</td>\n",
       "    </tr>\n",
       "    <tr>\n",
       "      <th>3</th>\n",
       "      <td>138920940977</td>\n",
       "      <td>знаешь иногда подумываю что тебе надо принести...</td>\n",
       "      <td>не</td>\n",
       "      <td>нет</td>\n",
       "      <td>3</td>\n",
       "      <td>конечно нет</td>\n",
       "    </tr>\n",
       "    <tr>\n",
       "      <th>4</th>\n",
       "      <td>138920940977</td>\n",
       "      <td>знаешь иногда подумываю что тебе надо принести...</td>\n",
       "      <td>не</td>\n",
       "      <td>нет</td>\n",
       "      <td>4</td>\n",
       "      <td>разумеется нет</td>\n",
       "    </tr>\n",
       "  </tbody>\n",
       "</table>\n",
       "</div>"
      ],
      "text/plain": [
       "              0                                                  1   2    3  \\\n",
       "0  138920940977  знаешь иногда подумываю что тебе надо принести...  не  нет   \n",
       "1  138920940977  знаешь иногда подумываю что тебе надо принести...  не  нет   \n",
       "2  138920940977  знаешь иногда подумываю что тебе надо принести...  не  нет   \n",
       "3  138920940977  знаешь иногда подумываю что тебе надо принести...  не  нет   \n",
       "4  138920940977  знаешь иногда подумываю что тебе надо принести...  не  нет   \n",
       "\n",
       "   4               5  \n",
       "0  0             неа  \n",
       "1  1     нет не хочу  \n",
       "2  2             нет  \n",
       "3  3     конечно нет  \n",
       "4  4  разумеется нет  "
      ]
     },
     "execution_count": 21,
     "metadata": {},
     "output_type": "execute_result"
    }
   ],
   "source": [
    "test.head()"
   ]
  },
  {
   "cell_type": "code",
   "execution_count": 14,
   "metadata": {
    "collapsed": true
   },
   "outputs": [],
   "source": [
    "from sklearn.feature_extraction.text import TfidfVectorizer, CountVectorizer\n",
    "from sklearn.decomposition import TruncatedSVD\n",
    "from sklearn import pipeline"
   ]
  },
  {
   "cell_type": "code",
   "execution_count": 15,
   "metadata": {
    "collapsed": true
   },
   "outputs": [],
   "source": [
    "svd_n_components = 300\n",
    "max_features = 500000"
   ]
  },
  {
   "cell_type": "code",
   "execution_count": 262,
   "metadata": {
    "collapsed": true
   },
   "outputs": [],
   "source": [
    "counters_pipe = pipeline.FeatureUnion(\n",
    "    n_jobs = -1,\n",
    "    transformer_list = [\n",
    "    ('chars_features', pipeline.Pipeline([\n",
    "        ('chars_counter', CountVectorizer(\n",
    "            analyzer=u'char', ngram_range=(2, 4), tokenizer=None,\n",
    "            max_features=max_features, strip_accents=None, max_df=0.9, min_df=2, lowercase=False)),\n",
    "        ('chars_tsvd', TruncatedSVD(n_components=svd_n_components, n_iter=25, random_state=42))])),\n",
    "    ('words_features', pipeline.Pipeline([\n",
    "        ('words_counter', CountVectorizer(\n",
    "            analyzer=u'word', ngram_range=(1, 3), tokenizer=None,\n",
    "            max_features=max_features, strip_accents=None, max_df=0.9, min_df=2, lowercase=False)),\n",
    "        ('words_tsvd', TruncatedSVD(n_components=svd_n_components, n_iter=25, random_state=42))])),\n",
    "])\n",
    "\n",
    "tfidf_pipe = pipeline.Pipeline([\n",
    "    ('words_tfidf', TfidfVectorizer(\n",
    "       analyzer=u'word', ngram_range=(1, 3), tokenizer=None,\n",
    "       max_features=max_features, strip_accents=None, max_df=0.9, min_df=2, lowercase=False)),\n",
    "    ('words_tsvd', TruncatedSVD(n_components=svd_n_components*2, n_iter=25, random_state=42))])"
   ]
  },
  {
   "cell_type": "code",
   "execution_count": 16,
   "metadata": {
    "collapsed": true
   },
   "outputs": [],
   "source": [
    "from gensim.models import KeyedVectors\n",
    "\n",
    "skipgram_ru = KeyedVectors.load_word2vec_format(path+'/models/ruwikiruscorpora_upos_skipgram_300_2_2018.vec.gz')\n",
    "lmtzr = nltk.stem.wordnet.WordNetLemmatizer()\n",
    "new_skipgram_ru = {}\n",
    "for word in skipgram_ru.vocab.keys():\n",
    "    new_word = lmtzr.lemmatize(deaccent(word.split('_')[0]))\n",
    "    new_skipgram_ru[new_word] = skipgram_ru[word]\n",
    "del skipgram_ru"
   ]
  },
  {
   "cell_type": "code",
   "execution_count": 17,
   "metadata": {
    "collapsed": true
   },
   "outputs": [],
   "source": [
    "tfidf = TfidfVectorizer(\n",
    "       analyzer=u'word', ngram_range=(1, 1), tokenizer=None, use_idf=True,\n",
    "       max_features=10000, strip_accents=None, max_df=0.9, min_df=2, lowercase=False)"
   ]
  },
  {
   "cell_type": "code",
   "execution_count": null,
   "metadata": {
    "collapsed": true
   },
   "outputs": [],
   "source": [
    "def weighter(transformed, tfidf, new_skipgram_ru):\n",
    "    data = None\n",
    "    for i in range(transformed.shape[0]):\n",
    "        features = 0\n",
    "        for j, word in enumerate(tfidf.vocabulary_):\n",
    "            if word in new_skipgram_ru.keys():\n",
    "                features += new_skipgram_ru[word] * transformed[i, tfidf.vocabulary_[word]]\n",
    "        if data is None:\n",
    "            data = features\n",
    "        else:\n",
    "            data = np.vstack([data, features])\n",
    "    return data"
   ]
  },
  {
   "cell_type": "code",
   "execution_count": 98,
   "metadata": {},
   "outputs": [
    {
     "name": "stderr",
     "output_type": "stream",
     "text": [
      "/home/gas/anaconda3/lib/python3.6/site-packages/sklearn/feature_extraction/text.py:1059: FutureWarning: Conversion of the second argument of issubdtype from `float` to `np.floating` is deprecated. In future, it will be treated as `np.float64 == np.dtype(float).type`.\n",
      "  if hasattr(X, 'dtype') and np.issubdtype(X.dtype, np.float):\n"
     ]
    }
   ],
   "source": [
    "tfidf_data = tfidf.fit_transform(train[1].loc[:100])"
   ]
  },
  {
   "cell_type": "code",
   "execution_count": 18,
   "metadata": {},
   "outputs": [
    {
     "name": "stderr",
     "output_type": "stream",
     "text": [
      "/home/gas/anaconda3/lib/python3.6/site-packages/sklearn/feature_extraction/text.py:1059: FutureWarning: Conversion of the second argument of issubdtype from `float` to `np.floating` is deprecated. In future, it will be treated as `np.float64 == np.dtype(float).type`.\n",
      "  if hasattr(X, 'dtype') and np.issubdtype(X.dtype, np.float):\n"
     ]
    }
   ],
   "source": [
    "w2v = None\n",
    "for i, word in enumerate(tfidf.vocabulary_.keys()):\n",
    "    if word not in new_skipgram_ru.keys():\n",
    "        if w2v is None:\n",
    "            w2v = np.zeros(300)\n",
    "        else:\n",
    "            w2v = np.vstack([w2v, np.zeros(300)])\n",
    "        continue\n",
    "    if w2v is None:\n",
    "        w2v = new_skipgram_ru[word]\n",
    "    else:\n",
    "        w2v = np.vstack([w2v, new_skipgram_ru[word]])"
   ]
  },
  {
   "cell_type": "code",
   "execution_count": 21,
   "metadata": {},
   "outputs": [
    {
     "ename": "KeyboardInterrupt",
     "evalue": "",
     "output_type": "error",
     "traceback": [
      "\u001b[0;31m---------------------------------------------------------------------------\u001b[0m",
      "\u001b[0;31mKeyboardInterrupt\u001b[0m                         Traceback (most recent call last)",
      "\u001b[0;32m<ipython-input-21-5db823c2603f>\u001b[0m in \u001b[0;36m<module>\u001b[0;34m()\u001b[0m\n\u001b[0;32m----> 1\u001b[0;31m \u001b[0membeddings\u001b[0m \u001b[0;34m=\u001b[0m \u001b[0mpd\u001b[0m\u001b[0;34m.\u001b[0m\u001b[0mDataFrame\u001b[0m\u001b[0;34m.\u001b[0m\u001b[0mfrom_dict\u001b[0m\u001b[0;34m(\u001b[0m\u001b[0mnew_skipgram_ru\u001b[0m\u001b[0;34m,\u001b[0m \u001b[0morient\u001b[0m\u001b[0;34m=\u001b[0m\u001b[0;34m'index'\u001b[0m\u001b[0;34m)\u001b[0m\u001b[0;34m\u001b[0m\u001b[0m\n\u001b[0m",
      "\u001b[0;32m/home/gas/anaconda3/lib/python3.6/site-packages/pandas/core/frame.py\u001b[0m in \u001b[0;36mfrom_dict\u001b[0;34m(cls, data, orient, dtype)\u001b[0m\n\u001b[1;32m    859\u001b[0m             \u001b[0;32mraise\u001b[0m \u001b[0mValueError\u001b[0m\u001b[0;34m(\u001b[0m\u001b[0;34m'only recognize index or columns for orient'\u001b[0m\u001b[0;34m)\u001b[0m\u001b[0;34m\u001b[0m\u001b[0m\n\u001b[1;32m    860\u001b[0m \u001b[0;34m\u001b[0m\u001b[0m\n\u001b[0;32m--> 861\u001b[0;31m         \u001b[0;32mreturn\u001b[0m \u001b[0mcls\u001b[0m\u001b[0;34m(\u001b[0m\u001b[0mdata\u001b[0m\u001b[0;34m,\u001b[0m \u001b[0mindex\u001b[0m\u001b[0;34m=\u001b[0m\u001b[0mindex\u001b[0m\u001b[0;34m,\u001b[0m \u001b[0mcolumns\u001b[0m\u001b[0;34m=\u001b[0m\u001b[0mcolumns\u001b[0m\u001b[0;34m,\u001b[0m \u001b[0mdtype\u001b[0m\u001b[0;34m=\u001b[0m\u001b[0mdtype\u001b[0m\u001b[0;34m)\u001b[0m\u001b[0;34m\u001b[0m\u001b[0m\n\u001b[0m\u001b[1;32m    862\u001b[0m \u001b[0;34m\u001b[0m\u001b[0m\n\u001b[1;32m    863\u001b[0m     \u001b[0;32mdef\u001b[0m \u001b[0mto_dict\u001b[0m\u001b[0;34m(\u001b[0m\u001b[0mself\u001b[0m\u001b[0;34m,\u001b[0m \u001b[0morient\u001b[0m\u001b[0;34m=\u001b[0m\u001b[0;34m'dict'\u001b[0m\u001b[0;34m)\u001b[0m\u001b[0;34m:\u001b[0m\u001b[0;34m\u001b[0m\u001b[0m\n",
      "\u001b[0;32m/home/gas/anaconda3/lib/python3.6/site-packages/pandas/core/frame.py\u001b[0m in \u001b[0;36m__init__\u001b[0;34m(self, data, index, columns, dtype, copy)\u001b[0m\n\u001b[1;32m    312\u001b[0m                     \u001b[0;32mif\u001b[0m \u001b[0mis_named_tuple\u001b[0m\u001b[0;34m(\u001b[0m\u001b[0mdata\u001b[0m\u001b[0;34m[\u001b[0m\u001b[0;36m0\u001b[0m\u001b[0;34m]\u001b[0m\u001b[0;34m)\u001b[0m \u001b[0;32mand\u001b[0m \u001b[0mcolumns\u001b[0m \u001b[0;32mis\u001b[0m \u001b[0;32mNone\u001b[0m\u001b[0;34m:\u001b[0m\u001b[0;34m\u001b[0m\u001b[0m\n\u001b[1;32m    313\u001b[0m                         \u001b[0mcolumns\u001b[0m \u001b[0;34m=\u001b[0m \u001b[0mdata\u001b[0m\u001b[0;34m[\u001b[0m\u001b[0;36m0\u001b[0m\u001b[0;34m]\u001b[0m\u001b[0;34m.\u001b[0m\u001b[0m_fields\u001b[0m\u001b[0;34m\u001b[0m\u001b[0m\n\u001b[0;32m--> 314\u001b[0;31m                     \u001b[0marrays\u001b[0m\u001b[0;34m,\u001b[0m \u001b[0mcolumns\u001b[0m \u001b[0;34m=\u001b[0m \u001b[0m_to_arrays\u001b[0m\u001b[0;34m(\u001b[0m\u001b[0mdata\u001b[0m\u001b[0;34m,\u001b[0m \u001b[0mcolumns\u001b[0m\u001b[0;34m,\u001b[0m \u001b[0mdtype\u001b[0m\u001b[0;34m=\u001b[0m\u001b[0mdtype\u001b[0m\u001b[0;34m)\u001b[0m\u001b[0;34m\u001b[0m\u001b[0m\n\u001b[0m\u001b[1;32m    315\u001b[0m                     \u001b[0mcolumns\u001b[0m \u001b[0;34m=\u001b[0m \u001b[0m_ensure_index\u001b[0m\u001b[0;34m(\u001b[0m\u001b[0mcolumns\u001b[0m\u001b[0;34m)\u001b[0m\u001b[0;34m\u001b[0m\u001b[0m\n\u001b[1;32m    316\u001b[0m \u001b[0;34m\u001b[0m\u001b[0m\n",
      "\u001b[0;32m/home/gas/anaconda3/lib/python3.6/site-packages/pandas/core/frame.py\u001b[0m in \u001b[0;36m_to_arrays\u001b[0;34m(data, columns, coerce_float, dtype)\u001b[0m\n\u001b[1;32m   5735\u001b[0m         \u001b[0mdata\u001b[0m \u001b[0;34m=\u001b[0m \u001b[0mlmap\u001b[0m\u001b[0;34m(\u001b[0m\u001b[0mtuple\u001b[0m\u001b[0;34m,\u001b[0m \u001b[0mdata\u001b[0m\u001b[0;34m)\u001b[0m\u001b[0;34m\u001b[0m\u001b[0m\n\u001b[1;32m   5736\u001b[0m         return _list_to_arrays(data, columns, coerce_float=coerce_float,\n\u001b[0;32m-> 5737\u001b[0;31m                                dtype=dtype)\n\u001b[0m\u001b[1;32m   5738\u001b[0m \u001b[0;34m\u001b[0m\u001b[0m\n\u001b[1;32m   5739\u001b[0m \u001b[0;34m\u001b[0m\u001b[0m\n",
      "\u001b[0;32m/home/gas/anaconda3/lib/python3.6/site-packages/pandas/core/frame.py\u001b[0m in \u001b[0;36m_list_to_arrays\u001b[0;34m(data, columns, coerce_float, dtype)\u001b[0m\n\u001b[1;32m   5792\u001b[0m         \u001b[0mcontent\u001b[0m \u001b[0;34m=\u001b[0m \u001b[0mlist\u001b[0m\u001b[0;34m(\u001b[0m\u001b[0mlib\u001b[0m\u001b[0;34m.\u001b[0m\u001b[0mto_object_array\u001b[0m\u001b[0;34m(\u001b[0m\u001b[0mdata\u001b[0m\u001b[0;34m)\u001b[0m\u001b[0;34m.\u001b[0m\u001b[0mT\u001b[0m\u001b[0;34m)\u001b[0m\u001b[0;34m\u001b[0m\u001b[0m\n\u001b[1;32m   5793\u001b[0m     return _convert_object_array(content, columns, dtype=dtype,\n\u001b[0;32m-> 5794\u001b[0;31m                                  coerce_float=coerce_float)\n\u001b[0m\u001b[1;32m   5795\u001b[0m \u001b[0;34m\u001b[0m\u001b[0m\n\u001b[1;32m   5796\u001b[0m \u001b[0;34m\u001b[0m\u001b[0m\n",
      "\u001b[0;32m/home/gas/anaconda3/lib/python3.6/site-packages/pandas/core/frame.py\u001b[0m in \u001b[0;36m_convert_object_array\u001b[0;34m(content, columns, coerce_float, dtype)\u001b[0m\n\u001b[1;32m   5860\u001b[0m         \u001b[0;32mreturn\u001b[0m \u001b[0marr\u001b[0m\u001b[0;34m\u001b[0m\u001b[0m\n\u001b[1;32m   5861\u001b[0m \u001b[0;34m\u001b[0m\u001b[0m\n\u001b[0;32m-> 5862\u001b[0;31m     \u001b[0marrays\u001b[0m \u001b[0;34m=\u001b[0m \u001b[0;34m[\u001b[0m\u001b[0mconvert\u001b[0m\u001b[0;34m(\u001b[0m\u001b[0marr\u001b[0m\u001b[0;34m)\u001b[0m \u001b[0;32mfor\u001b[0m \u001b[0marr\u001b[0m \u001b[0;32min\u001b[0m \u001b[0mcontent\u001b[0m\u001b[0;34m]\u001b[0m\u001b[0;34m\u001b[0m\u001b[0m\n\u001b[0m\u001b[1;32m   5863\u001b[0m \u001b[0;34m\u001b[0m\u001b[0m\n\u001b[1;32m   5864\u001b[0m     \u001b[0;32mreturn\u001b[0m \u001b[0marrays\u001b[0m\u001b[0;34m,\u001b[0m \u001b[0mcolumns\u001b[0m\u001b[0;34m\u001b[0m\u001b[0m\n",
      "\u001b[0;32m/home/gas/anaconda3/lib/python3.6/site-packages/pandas/core/frame.py\u001b[0m in \u001b[0;36m<listcomp>\u001b[0;34m(.0)\u001b[0m\n\u001b[1;32m   5860\u001b[0m         \u001b[0;32mreturn\u001b[0m \u001b[0marr\u001b[0m\u001b[0;34m\u001b[0m\u001b[0m\n\u001b[1;32m   5861\u001b[0m \u001b[0;34m\u001b[0m\u001b[0m\n\u001b[0;32m-> 5862\u001b[0;31m     \u001b[0marrays\u001b[0m \u001b[0;34m=\u001b[0m \u001b[0;34m[\u001b[0m\u001b[0mconvert\u001b[0m\u001b[0;34m(\u001b[0m\u001b[0marr\u001b[0m\u001b[0;34m)\u001b[0m \u001b[0;32mfor\u001b[0m \u001b[0marr\u001b[0m \u001b[0;32min\u001b[0m \u001b[0mcontent\u001b[0m\u001b[0;34m]\u001b[0m\u001b[0;34m\u001b[0m\u001b[0m\n\u001b[0m\u001b[1;32m   5863\u001b[0m \u001b[0;34m\u001b[0m\u001b[0m\n\u001b[1;32m   5864\u001b[0m     \u001b[0;32mreturn\u001b[0m \u001b[0marrays\u001b[0m\u001b[0;34m,\u001b[0m \u001b[0mcolumns\u001b[0m\u001b[0;34m\u001b[0m\u001b[0m\n",
      "\u001b[0;32m/home/gas/anaconda3/lib/python3.6/site-packages/pandas/core/frame.py\u001b[0m in \u001b[0;36mconvert\u001b[0;34m(arr)\u001b[0m\n\u001b[1;32m   5856\u001b[0m     \u001b[0;32mdef\u001b[0m \u001b[0mconvert\u001b[0m\u001b[0;34m(\u001b[0m\u001b[0marr\u001b[0m\u001b[0;34m)\u001b[0m\u001b[0;34m:\u001b[0m\u001b[0;34m\u001b[0m\u001b[0m\n\u001b[1;32m   5857\u001b[0m         \u001b[0;32mif\u001b[0m \u001b[0mdtype\u001b[0m \u001b[0;34m!=\u001b[0m \u001b[0mobject\u001b[0m \u001b[0;32mand\u001b[0m \u001b[0mdtype\u001b[0m \u001b[0;34m!=\u001b[0m \u001b[0mnp\u001b[0m\u001b[0;34m.\u001b[0m\u001b[0mobject\u001b[0m\u001b[0;34m:\u001b[0m\u001b[0;34m\u001b[0m\u001b[0m\n\u001b[0;32m-> 5858\u001b[0;31m             \u001b[0marr\u001b[0m \u001b[0;34m=\u001b[0m \u001b[0mlib\u001b[0m\u001b[0;34m.\u001b[0m\u001b[0mmaybe_convert_objects\u001b[0m\u001b[0;34m(\u001b[0m\u001b[0marr\u001b[0m\u001b[0;34m,\u001b[0m \u001b[0mtry_float\u001b[0m\u001b[0;34m=\u001b[0m\u001b[0mcoerce_float\u001b[0m\u001b[0;34m)\u001b[0m\u001b[0;34m\u001b[0m\u001b[0m\n\u001b[0m\u001b[1;32m   5859\u001b[0m             \u001b[0marr\u001b[0m \u001b[0;34m=\u001b[0m \u001b[0mmaybe_cast_to_datetime\u001b[0m\u001b[0;34m(\u001b[0m\u001b[0marr\u001b[0m\u001b[0;34m,\u001b[0m \u001b[0mdtype\u001b[0m\u001b[0;34m)\u001b[0m\u001b[0;34m\u001b[0m\u001b[0m\n\u001b[1;32m   5860\u001b[0m         \u001b[0;32mreturn\u001b[0m \u001b[0marr\u001b[0m\u001b[0;34m\u001b[0m\u001b[0m\n",
      "\u001b[0;31mKeyboardInterrupt\u001b[0m: "
     ]
    }
   ],
   "source": [
    "new_skipgram_ru = pd.DataFrame.from_dict(new_skipgram_ru, orient='index')"
   ]
  },
  {
   "cell_type": "code",
   "execution_count": null,
   "metadata": {
    "collapsed": true
   },
   "outputs": [],
   "source": []
  },
  {
   "cell_type": "code",
   "execution_count": 342,
   "metadata": {},
   "outputs": [
    {
     "data": {
      "text/html": [
       "<div>\n",
       "<style>\n",
       "    .dataframe thead tr:only-child th {\n",
       "        text-align: right;\n",
       "    }\n",
       "\n",
       "    .dataframe thead th {\n",
       "        text-align: left;\n",
       "    }\n",
       "\n",
       "    .dataframe tbody tr th {\n",
       "        vertical-align: top;\n",
       "    }\n",
       "</style>\n",
       "<table border=\"1\" class=\"dataframe\">\n",
       "  <thead>\n",
       "    <tr style=\"text-align: right;\">\n",
       "      <th></th>\n",
       "      <th>!ки</th>\n",
       "      <th>#0</th>\n",
       "      <th>#000000</th>\n",
       "      <th>#1</th>\n",
       "      <th>#1-6</th>\n",
       "      <th>#10</th>\n",
       "      <th>#11</th>\n",
       "      <th>#12</th>\n",
       "      <th>#13</th>\n",
       "      <th>#14</th>\n",
       "      <th>...</th>\n",
       "      <th>年號::nianhao</th>\n",
       "      <th>従五位下</th>\n",
       "      <th>従四位下</th>\n",
       "      <th>新編::日本史辞典</th>\n",
       "      <th>日本</th>\n",
       "      <th>東京</th>\n",
       "      <th>男はつらいよ</th>\n",
       "      <th>运城专区</th>\n",
       "      <th>郊区</th>\n",
       "      <th>�,�</th>\n",
       "    </tr>\n",
       "  </thead>\n",
       "  <tbody>\n",
       "    <tr>\n",
       "      <th>0</th>\n",
       "      <td>-0.051333</td>\n",
       "      <td>0.125593</td>\n",
       "      <td>0.016969</td>\n",
       "      <td>0.103200</td>\n",
       "      <td>0.089624</td>\n",
       "      <td>0.072397</td>\n",
       "      <td>0.133636</td>\n",
       "      <td>0.095831</td>\n",
       "      <td>0.111811</td>\n",
       "      <td>0.085971</td>\n",
       "      <td>...</td>\n",
       "      <td>-0.028292</td>\n",
       "      <td>0.034690</td>\n",
       "      <td>0.074955</td>\n",
       "      <td>0.074041</td>\n",
       "      <td>0.018757</td>\n",
       "      <td>-0.008806</td>\n",
       "      <td>0.035595</td>\n",
       "      <td>0.047633</td>\n",
       "      <td>0.031999</td>\n",
       "      <td>0.020035</td>\n",
       "    </tr>\n",
       "    <tr>\n",
       "      <th>1</th>\n",
       "      <td>0.114001</td>\n",
       "      <td>0.060816</td>\n",
       "      <td>0.105114</td>\n",
       "      <td>0.072320</td>\n",
       "      <td>0.048856</td>\n",
       "      <td>0.072119</td>\n",
       "      <td>0.043670</td>\n",
       "      <td>-0.004487</td>\n",
       "      <td>0.099241</td>\n",
       "      <td>0.032873</td>\n",
       "      <td>...</td>\n",
       "      <td>0.010153</td>\n",
       "      <td>0.054273</td>\n",
       "      <td>0.025466</td>\n",
       "      <td>0.065673</td>\n",
       "      <td>0.083741</td>\n",
       "      <td>0.104142</td>\n",
       "      <td>0.040070</td>\n",
       "      <td>0.089000</td>\n",
       "      <td>0.082389</td>\n",
       "      <td>0.031989</td>\n",
       "    </tr>\n",
       "    <tr>\n",
       "      <th>2</th>\n",
       "      <td>-0.086864</td>\n",
       "      <td>0.132568</td>\n",
       "      <td>-0.047530</td>\n",
       "      <td>0.102536</td>\n",
       "      <td>0.060635</td>\n",
       "      <td>-0.014821</td>\n",
       "      <td>0.058024</td>\n",
       "      <td>0.065031</td>\n",
       "      <td>0.053722</td>\n",
       "      <td>0.024626</td>\n",
       "      <td>...</td>\n",
       "      <td>0.017632</td>\n",
       "      <td>0.110340</td>\n",
       "      <td>0.096492</td>\n",
       "      <td>0.100238</td>\n",
       "      <td>0.006842</td>\n",
       "      <td>0.004834</td>\n",
       "      <td>0.056163</td>\n",
       "      <td>0.068382</td>\n",
       "      <td>0.043812</td>\n",
       "      <td>0.011578</td>\n",
       "    </tr>\n",
       "    <tr>\n",
       "      <th>3</th>\n",
       "      <td>-0.050628</td>\n",
       "      <td>-0.014923</td>\n",
       "      <td>-0.055164</td>\n",
       "      <td>0.005984</td>\n",
       "      <td>-0.036993</td>\n",
       "      <td>0.008021</td>\n",
       "      <td>-0.002301</td>\n",
       "      <td>0.000520</td>\n",
       "      <td>0.053647</td>\n",
       "      <td>0.065537</td>\n",
       "      <td>...</td>\n",
       "      <td>0.009815</td>\n",
       "      <td>-0.027986</td>\n",
       "      <td>0.037767</td>\n",
       "      <td>0.100304</td>\n",
       "      <td>-0.067201</td>\n",
       "      <td>-0.110351</td>\n",
       "      <td>0.021179</td>\n",
       "      <td>0.069392</td>\n",
       "      <td>-0.025067</td>\n",
       "      <td>-0.039870</td>\n",
       "    </tr>\n",
       "    <tr>\n",
       "      <th>4</th>\n",
       "      <td>-0.018447</td>\n",
       "      <td>-0.056804</td>\n",
       "      <td>-0.110744</td>\n",
       "      <td>-0.021028</td>\n",
       "      <td>-0.006750</td>\n",
       "      <td>-0.024681</td>\n",
       "      <td>-0.014100</td>\n",
       "      <td>0.003425</td>\n",
       "      <td>0.053173</td>\n",
       "      <td>0.010043</td>\n",
       "      <td>...</td>\n",
       "      <td>-0.058368</td>\n",
       "      <td>-0.138596</td>\n",
       "      <td>-0.132692</td>\n",
       "      <td>-0.075596</td>\n",
       "      <td>-0.104805</td>\n",
       "      <td>-0.015554</td>\n",
       "      <td>0.018849</td>\n",
       "      <td>-0.046377</td>\n",
       "      <td>-0.065172</td>\n",
       "      <td>-0.068840</td>\n",
       "    </tr>\n",
       "  </tbody>\n",
       "</table>\n",
       "<p>5 rows × 313821 columns</p>\n",
       "</div>"
      ],
      "text/plain": [
       "        !ки        #0   #000000        #1      #1-6       #10       #11  \\\n",
       "0 -0.051333  0.125593  0.016969  0.103200  0.089624  0.072397  0.133636   \n",
       "1  0.114001  0.060816  0.105114  0.072320  0.048856  0.072119  0.043670   \n",
       "2 -0.086864  0.132568 -0.047530  0.102536  0.060635 -0.014821  0.058024   \n",
       "3 -0.050628 -0.014923 -0.055164  0.005984 -0.036993  0.008021 -0.002301   \n",
       "4 -0.018447 -0.056804 -0.110744 -0.021028 -0.006750 -0.024681 -0.014100   \n",
       "\n",
       "        #12       #13       #14    ...     年號::nianhao      従五位下      従四位下  \\\n",
       "0  0.095831  0.111811  0.085971    ...       -0.028292  0.034690  0.074955   \n",
       "1 -0.004487  0.099241  0.032873    ...        0.010153  0.054273  0.025466   \n",
       "2  0.065031  0.053722  0.024626    ...        0.017632  0.110340  0.096492   \n",
       "3  0.000520  0.053647  0.065537    ...        0.009815 -0.027986  0.037767   \n",
       "4  0.003425  0.053173  0.010043    ...       -0.058368 -0.138596 -0.132692   \n",
       "\n",
       "   新編::日本史辞典        日本        東京    男はつらいよ      运城专区        郊区       �,�  \n",
       "0   0.074041  0.018757 -0.008806  0.035595  0.047633  0.031999  0.020035  \n",
       "1   0.065673  0.083741  0.104142  0.040070  0.089000  0.082389  0.031989  \n",
       "2   0.100238  0.006842  0.004834  0.056163  0.068382  0.043812  0.011578  \n",
       "3   0.100304 -0.067201 -0.110351  0.021179  0.069392 -0.025067 -0.039870  \n",
       "4  -0.075596 -0.104805 -0.015554  0.018849 -0.046377 -0.065172 -0.068840  \n",
       "\n",
       "[5 rows x 313821 columns]"
      ]
     },
     "execution_count": 342,
     "metadata": {},
     "output_type": "execute_result"
    }
   ],
   "source": [
    "embeddings.head()"
   ]
  },
  {
   "cell_type": "code",
   "execution_count": 339,
   "metadata": {
    "collapsed": true
   },
   "outputs": [],
   "source": [
    "tfidf_voc = pd.DataFrame(tfidf.vocabulary_, index=range(len(tfidf.vocabulary_)))"
   ]
  },
  {
   "cell_type": "code",
   "execution_count": 22,
   "metadata": {},
   "outputs": [
    {
     "data": {
      "text/plain": [
       "(101, 61)"
      ]
     },
     "execution_count": 22,
     "metadata": {},
     "output_type": "execute_result"
    }
   ],
   "source": [
    "tfidf_data.shape"
   ]
  },
  {
   "cell_type": "code",
   "execution_count": 23,
   "metadata": {},
   "outputs": [
    {
     "data": {
      "text/plain": [
       "(61, 300)"
      ]
     },
     "execution_count": 23,
     "metadata": {},
     "output_type": "execute_result"
    }
   ],
   "source": [
    "w2v.shape"
   ]
  },
  {
   "cell_type": "code",
   "execution_count": 333,
   "metadata": {
    "collapsed": true
   },
   "outputs": [],
   "source": [
    "tfidf_data *= w2v"
   ]
  },
  {
   "cell_type": "code",
   "execution_count": 32,
   "metadata": {
    "collapsed": true
   },
   "outputs": [],
   "source": [
    "tfidf_data = tfidf_data.todense()"
   ]
  },
  {
   "cell_type": "code",
   "execution_count": 67,
   "metadata": {},
   "outputs": [
    {
     "data": {
      "text/plain": [
       "((7, 300), matrix([[0.31622777, 0.31622777, 0.31622777, 0.31622777, 0.63245553,\n",
       "          0.31622777, 0.31622777]]))"
      ]
     },
     "execution_count": 67,
     "metadata": {},
     "output_type": "execute_result"
    }
   ],
   "source": [
    "w2v[idxes].shape, tfidf_data[0, idxes]"
   ]
  },
  {
   "cell_type": "code",
   "execution_count": 109,
   "metadata": {
    "collapsed": true
   },
   "outputs": [],
   "source": [
    "new_tfidf_data = np.empty((tfidf_data.shape[0], 300))"
   ]
  },
  {
   "cell_type": "code",
   "execution_count": 110,
   "metadata": {},
   "outputs": [
    {
     "data": {
      "text/plain": [
       "(101, 300)"
      ]
     },
     "execution_count": 110,
     "metadata": {},
     "output_type": "execute_result"
    }
   ],
   "source": [
    "new_tfidf_data.shape"
   ]
  },
  {
   "cell_type": "code",
   "execution_count": 103,
   "metadata": {},
   "outputs": [],
   "source": [
    "idxes = np.where(tfidf_data[0].todense())[1]\n",
    "test1 = np.dot(tfidf_data[0, idxes].todense(), w2v[idxes])\n",
    "#(w2v[idxes]*tfidf_data[0, idxes])"
   ]
  },
  {
   "cell_type": "code",
   "execution_count": 106,
   "metadata": {},
   "outputs": [
    {
     "data": {
      "text/plain": [
       "(1, 300)"
      ]
     },
     "execution_count": 106,
     "metadata": {},
     "output_type": "execute_result"
    }
   ],
   "source": [
    "test1.shape"
   ]
  },
  {
   "cell_type": "code",
   "execution_count": 89,
   "metadata": {},
   "outputs": [],
   "source": [
    "test2 = w2v[idxes[0]]*tfidf_data[0, idxes[0]]\n",
    "for id_ in idxes[1:]:\n",
    "    test2 += w2v[id_]*tfidf_data[0, id_]"
   ]
  },
  {
   "cell_type": "code",
   "execution_count": 93,
   "metadata": {},
   "outputs": [
    {
     "data": {
      "text/plain": [
       "True"
      ]
     },
     "execution_count": 93,
     "metadata": {},
     "output_type": "execute_result"
    }
   ],
   "source": [
    "test1.all() == test2.all()"
   ]
  },
  {
   "cell_type": "code",
   "execution_count": 107,
   "metadata": {
    "collapsed": true
   },
   "outputs": [],
   "source": [
    "new_tfidf_data[0, :] = test1"
   ]
  },
  {
   "cell_type": "code",
   "execution_count": 108,
   "metadata": {},
   "outputs": [
    {
     "data": {
      "text/plain": [
       "(101, 300)"
      ]
     },
     "execution_count": 108,
     "metadata": {},
     "output_type": "execute_result"
    }
   ],
   "source": [
    "new_tfidf_data.shape"
   ]
  },
  {
   "cell_type": "code",
   "execution_count": null,
   "metadata": {
    "collapsed": true
   },
   "outputs": [],
   "source": []
  },
  {
   "cell_type": "code",
   "execution_count": 303,
   "metadata": {},
   "outputs": [
    {
     "data": {
      "text/plain": [
       "61"
      ]
     },
     "execution_count": 303,
     "metadata": {},
     "output_type": "execute_result"
    }
   ],
   "source": [
    "len(tfidf.vocabulary_)"
   ]
  },
  {
   "cell_type": "code",
   "execution_count": 304,
   "metadata": {},
   "outputs": [
    {
     "data": {
      "text/plain": [
       "(61, 300)"
      ]
     },
     "execution_count": 304,
     "metadata": {},
     "output_type": "execute_result"
    }
   ],
   "source": [
    "w2v.shape"
   ]
  },
  {
   "cell_type": "code",
   "execution_count": 280,
   "metadata": {},
   "outputs": [
    {
     "data": {
      "text/plain": [
       "{'бывало': 0,\n",
       " 'бывало получше': 1,\n",
       " 'видео': 2,\n",
       " 'видео звонок': 3,\n",
       " 'звонок': 4,\n",
       " 'кликни': 5,\n",
       " 'кликни на': 6,\n",
       " 'кликни на меня': 7,\n",
       " 'меня': 8,\n",
       " 'меня потом': 9,\n",
       " 'меня потом на': 10,\n",
       " 'на': 11,\n",
       " 'на меня': 12,\n",
       " 'на меня потом': 13,\n",
       " 'на надпись': 14,\n",
       " 'на надпись видео': 15,\n",
       " 'надпись': 16,\n",
       " 'надпись видео': 17,\n",
       " 'надпись видео звонок': 18,\n",
       " 'получше': 19,\n",
       " 'потом': 20,\n",
       " 'потом на': 21,\n",
       " 'потом на надпись': 22}"
      ]
     },
     "execution_count": 280,
     "metadata": {},
     "output_type": "execute_result"
    }
   ],
   "source": [
    "tfidf.vocabulary_"
   ]
  },
  {
   "cell_type": "code",
   "execution_count": null,
   "metadata": {
    "collapsed": true
   },
   "outputs": [],
   "source": []
  },
  {
   "cell_type": "code",
   "execution_count": 279,
   "metadata": {},
   "outputs": [
    {
     "data": {
      "text/plain": [
       "<11x1 sparse matrix of type '<class 'numpy.float64'>'\n",
       "\twith 5 stored elements in Compressed Sparse Row format>"
      ]
     },
     "execution_count": 279,
     "metadata": {},
     "output_type": "execute_result"
    }
   ],
   "source": [
    "tfidf_data"
   ]
  },
  {
   "cell_type": "code",
   "execution_count": 275,
   "metadata": {
    "collapsed": true
   },
   "outputs": [],
   "source": [
    "w2v = weighter(tfidf_data, tfidf, new_skipgram_ru)"
   ]
  },
  {
   "cell_type": "code",
   "execution_count": 277,
   "metadata": {},
   "outputs": [
    {
     "data": {
      "text/plain": [
       "(11, 300)"
      ]
     },
     "execution_count": 277,
     "metadata": {},
     "output_type": "execute_result"
    }
   ],
   "source": [
    "w2v.shape"
   ]
  },
  {
   "cell_type": "code",
   "execution_count": null,
   "metadata": {
    "collapsed": true
   },
   "outputs": [],
   "source": []
  },
  {
   "cell_type": "code",
   "execution_count": null,
   "metadata": {
    "collapsed": true
   },
   "outputs": [],
   "source": []
  },
  {
   "cell_type": "code",
   "execution_count": null,
   "metadata": {
    "collapsed": true
   },
   "outputs": [],
   "source": []
  },
  {
   "cell_type": "code",
   "execution_count": 116,
   "metadata": {
    "collapsed": true
   },
   "outputs": [],
   "source": [
    "def dcg_at_k(r, k, method=0):\n",
    "    r = np.asfarray(r)[:k]\n",
    "    if r.size:\n",
    "        if method == 0:\n",
    "            return r[0] + np.sum(r[1:] / np.log2(np.arange(2, r.size + 1)))\n",
    "        elif method == 1:\n",
    "            return np.sum(r / np.log2(np.arange(2, r.size + 2)))\n",
    "        else:\n",
    "            raise ValueError('method must be 0 or 1.')\n",
    "    return 0.\n",
    "\n",
    "def ndcg_at_k(r, k=3, method=0):\n",
    "    dcg_max = dcg_at_k(sorted(r, reverse=True), k, method)\n",
    "    if not dcg_max:\n",
    "        return 0.\n",
    "    return dcg_at_k(r, k, method) / dcg_max"
   ]
  },
  {
   "cell_type": "code",
   "execution_count": 53,
   "metadata": {
    "collapsed": true
   },
   "outputs": [],
   "source": [
    "from sklearn.linear_model import Ridge\n",
    "from sklearn.model_selection import KFold"
   ]
  },
  {
   "cell_type": "code",
   "execution_count": 113,
   "metadata": {
    "collapsed": true
   },
   "outputs": [],
   "source": [
    "nfolds = round(len(train) / len(test))\n",
    "\n",
    "lr = Ridge(alpha=3.0)\n",
    "cv = KFold(n_splits=nfolds, shuffle=True, random_state=42)"
   ]
  },
  {
   "cell_type": "code",
   "execution_count": 114,
   "metadata": {
    "scrolled": true
   },
   "outputs": [
    {
     "name": "stdout",
     "output_type": "stream",
     "text": [
      "make features...\n",
      "fitting model...\n",
      "make prediction...\n",
      "fold#1: ndcg = 85496\n",
      "make features...\n",
      "fitting model...\n",
      "make prediction...\n",
      "fold#2: ndcg = 85920\n",
      "make features...\n",
      "fitting model...\n",
      "make prediction...\n",
      "fold#3: ndcg = 85909\n",
      "make features...\n",
      "fitting model...\n",
      "make prediction...\n",
      "fold#4: ndcg = 86006\n",
      "make features...\n",
      "fitting model...\n",
      "make prediction...\n",
      "fold#5: ndcg = 85659\n",
      "make features...\n",
      "fitting model...\n",
      "make prediction...\n",
      "fold#6: ndcg = 85489\n",
      "make features...\n",
      "fitting model...\n",
      "make prediction...\n",
      "fold#7: ndcg = 86035\n",
      "make features...\n",
      "fitting model...\n",
      "make prediction...\n",
      "fold#8: ndcg = 85668\n",
      "make features...\n",
      "fitting model...\n",
      "make prediction...\n",
      "fold#9: ndcg = 85639\n",
      "make features...\n",
      "fitting model...\n",
      "make prediction...\n",
      "fold#10: ndcg = 85552\n",
      "averaged cv score: ndcg = 85737\n"
     ]
    }
   ],
   "source": [
    "fold = 1\n",
    "cv_score = 0\n",
    "for train_index, test_index in cv.split(train):\n",
    "    print('make features...')\n",
    "#     counters_pipe.fit(np.hstack([train[col].loc[train_index] for col in text_cols]))\n",
    "#     train_data = np.hstack([counters_pipe.transform(train[col].loc[train_index]) for col in text_cols])\n",
    "#     test_data = np.hstack([counters_pipe.transform(train[col].loc[test_index]) for col in text_cols])\n",
    "    \n",
    "    tfidf.fit(np.hstack([train[col].loc[train_index] for col in text_cols]))\n",
    "    train_data = np.hstack([weighter(tfidf.transform(train[col].loc[train_index]), tfidf, new_skipgram_ru) for col in text_cols])\n",
    "    test_data = np.hstack([weighter(tfidf.transform(train[col].loc[test_index]), tfidf, new_skipgram_ru) for col in text_cols])\n",
    "    \n",
    "    print('fitting model...')\n",
    "    lr.fit(train_data, train['target'].loc[train_index])\n",
    "\n",
    "    print('make prediction...')\n",
    "    prediction = pd.DataFrame()\n",
    "    prediction['context_id'] = train[0].loc[test_index]\n",
    "    prediction['reply_id'] = train[4].loc[test_index]\n",
    "    prediction['rank'] = - lr.predict(test_data)\n",
    "    prediction = prediction.sort_values(by=['context_id', 'rank'])[['context_id', 'reply_id']]\n",
    "    \n",
    "    score = 0\n",
    "    uniques = prediction['context_id'].unique()\n",
    "    for Id in uniques:\n",
    "        tmp = prediction[prediction['context_id'] == Id]['reply_id'].values.tolist()\n",
    "        score += ndcg_at_k(tmp, len(set(tmp))) / len(uniques)\n",
    "    score *= 100000\n",
    "    cv_score += score / nfolds\n",
    "    \n",
    "    print('fold#%i: ndcg = %i' % (fold, int(score)))\n",
    "    fold += 1\n",
    "print('averaged cv score: ndcg = %i' % (int(cv_score)))"
   ]
  },
  {
   "cell_type": "code",
   "execution_count": null,
   "metadata": {
    "collapsed": true
   },
   "outputs": [],
   "source": []
  },
  {
   "cell_type": "code",
   "execution_count": 95,
   "metadata": {
    "collapsed": true
   },
   "outputs": [],
   "source": [
    "counters_pipe.fit(np.hstack([train[col] for col in text_cols]))\n",
    "train_data = np.hstack([counters_pipe.transform(train[col]) for col in text_cols])\n",
    "test_data = np.hstack([counters_pipe.transform(test[col]) for col in text_cols])\n",
    "\n",
    "lr.fit(train_data, train['target'])\n",
    "\n",
    "prediction = pd.DataFrame()\n",
    "prediction['context_id'] = test[0]\n",
    "prediction['reply_id'] = test[4]\n",
    "prediction['rank'] = - lr.predict(test_data)\n",
    "prediction = prediction.sort_values(by=['context_id', 'rank'])[['context_id', 'reply_id']]"
   ]
  },
  {
   "cell_type": "code",
   "execution_count": 96,
   "metadata": {
    "collapsed": true
   },
   "outputs": [],
   "source": [
    "prediction.to_csv(path+'/data/sub_1.tsv',header=None, index=False, sep=' ')"
   ]
  },
  {
   "cell_type": "code",
   "execution_count": 236,
   "metadata": {
    "collapsed": true
   },
   "outputs": [],
   "source": [
    "train.to_csv(path+'/data/train_modified.tsv', sep=' ')"
   ]
  },
  {
   "cell_type": "code",
   "execution_count": 241,
   "metadata": {
    "collapsed": true
   },
   "outputs": [],
   "source": [
    "train = pd.read_csv(path+'/data/train_modified.tsv', sep=' ', index_col=0)"
   ]
  },
  {
   "cell_type": "code",
   "execution_count": 242,
   "metadata": {},
   "outputs": [
    {
     "data": {
      "text/html": [
       "<div>\n",
       "<style>\n",
       "    .dataframe thead tr:only-child th {\n",
       "        text-align: right;\n",
       "    }\n",
       "\n",
       "    .dataframe thead th {\n",
       "        text-align: left;\n",
       "    }\n",
       "\n",
       "    .dataframe tbody tr th {\n",
       "        vertical-align: top;\n",
       "    }\n",
       "</style>\n",
       "<table border=\"1\" class=\"dataframe\">\n",
       "  <thead>\n",
       "    <tr style=\"text-align: right;\">\n",
       "      <th></th>\n",
       "      <th>0</th>\n",
       "      <th>1</th>\n",
       "      <th>2</th>\n",
       "      <th>3</th>\n",
       "      <th>4</th>\n",
       "      <th>5</th>\n",
       "      <th>6</th>\n",
       "      <th>7</th>\n",
       "      <th>rank</th>\n",
       "      <th>target</th>\n",
       "    </tr>\n",
       "  </thead>\n",
       "  <tbody>\n",
       "    <tr>\n",
       "      <th>0</th>\n",
       "      <td>22579918886</td>\n",
       "      <td>кликни на меня а потом на надпись \" видео - зв...</td>\n",
       "      <td>о , я тебя вижу .</td>\n",
       "      <td>ладно , повесь трубку .</td>\n",
       "      <td>0</td>\n",
       "      <td>не могу .</td>\n",
       "      <td>good</td>\n",
       "      <td>0.875352</td>\n",
       "      <td>3</td>\n",
       "      <td>2.626055</td>\n",
       "    </tr>\n",
       "    <tr>\n",
       "      <th>1</th>\n",
       "      <td>22579918886</td>\n",
       "      <td>кликни на меня а потом на надпись \" видео - зв...</td>\n",
       "      <td>о , я тебя вижу .</td>\n",
       "      <td>ладно , повесь трубку .</td>\n",
       "      <td>1</td>\n",
       "      <td>нет , звонить буду я .</td>\n",
       "      <td>neutral</td>\n",
       "      <td>0.900968</td>\n",
       "      <td>2</td>\n",
       "      <td>1.801936</td>\n",
       "    </tr>\n",
       "    <tr>\n",
       "      <th>2</th>\n",
       "      <td>22579918886</td>\n",
       "      <td>кликни на меня а потом на надпись \" видео - зв...</td>\n",
       "      <td>о , я тебя вижу .</td>\n",
       "      <td>ладно , повесь трубку .</td>\n",
       "      <td>2</td>\n",
       "      <td>слушай , я не мог уйти .</td>\n",
       "      <td>bad</td>\n",
       "      <td>0.884320</td>\n",
       "      <td>1</td>\n",
       "      <td>0.884320</td>\n",
       "    </tr>\n",
       "    <tr>\n",
       "      <th>3</th>\n",
       "      <td>22579918886</td>\n",
       "      <td>кликни на меня а потом на надпись \" видео - зв...</td>\n",
       "      <td>о , я тебя вижу .</td>\n",
       "      <td>ладно , повесь трубку .</td>\n",
       "      <td>3</td>\n",
       "      <td>я не прекращу звонить .</td>\n",
       "      <td>good</td>\n",
       "      <td>0.982530</td>\n",
       "      <td>3</td>\n",
       "      <td>2.947591</td>\n",
       "    </tr>\n",
       "    <tr>\n",
       "      <th>4</th>\n",
       "      <td>22579918886</td>\n",
       "      <td>кликни на меня а потом на надпись \" видео - зв...</td>\n",
       "      <td>о , я тебя вижу .</td>\n",
       "      <td>ладно , повесь трубку .</td>\n",
       "      <td>4</td>\n",
       "      <td>я звоню им .</td>\n",
       "      <td>good</td>\n",
       "      <td>0.838054</td>\n",
       "      <td>3</td>\n",
       "      <td>2.514161</td>\n",
       "    </tr>\n",
       "  </tbody>\n",
       "</table>\n",
       "</div>"
      ],
      "text/plain": [
       "             0                                                  1  \\\n",
       "0  22579918886  кликни на меня а потом на надпись \" видео - зв...   \n",
       "1  22579918886  кликни на меня а потом на надпись \" видео - зв...   \n",
       "2  22579918886  кликни на меня а потом на надпись \" видео - зв...   \n",
       "3  22579918886  кликни на меня а потом на надпись \" видео - зв...   \n",
       "4  22579918886  кликни на меня а потом на надпись \" видео - зв...   \n",
       "\n",
       "                   2                        3  4                         5  \\\n",
       "0  о , я тебя вижу .  ладно , повесь трубку .  0                 не могу .   \n",
       "1  о , я тебя вижу .  ладно , повесь трубку .  1    нет , звонить буду я .   \n",
       "2  о , я тебя вижу .  ладно , повесь трубку .  2  слушай , я не мог уйти .   \n",
       "3  о , я тебя вижу .  ладно , повесь трубку .  3   я не прекращу звонить .   \n",
       "4  о , я тебя вижу .  ладно , повесь трубку .  4              я звоню им .   \n",
       "\n",
       "         6         7  rank    target  \n",
       "0     good  0.875352     3  2.626055  \n",
       "1  neutral  0.900968     2  1.801936  \n",
       "2      bad  0.884320     1  0.884320  \n",
       "3     good  0.982530     3  2.947591  \n",
       "4     good  0.838054     3  2.514161  "
      ]
     },
     "execution_count": 242,
     "metadata": {},
     "output_type": "execute_result"
    }
   ],
   "source": [
    "train.head()"
   ]
  },
  {
   "cell_type": "code",
   "execution_count": 112,
   "metadata": {},
   "outputs": [],
   "source": [
    "import re\n",
    "#https://github.com/ppgmg/github_public/blob/master/spell/symspell_python.py\n",
    "max_edit_distance = 3 \n",
    "verbose = 0\n",
    "# 0: top suggestion\n",
    "# 1: all suggestions of smallest edit distance\n",
    "# 2: all suggestions <= max_edit_distance (slower, no early termination)\n",
    "\n",
    "dictionary = {}\n",
    "longest_word_length = 0\n",
    "\n",
    "def get_deletes_list(w):\n",
    "    '''given a word, derive strings with up to max_edit_distance characters\n",
    "       deleted'''\n",
    "    deletes = []\n",
    "    queue = [w]\n",
    "    for d in range(max_edit_distance):\n",
    "        temp_queue = []\n",
    "        for word in queue:\n",
    "            if len(word)>1:\n",
    "                for c in range(len(word)):  # character index\n",
    "                    word_minus_c = word[:c] + word[c+1:]\n",
    "                    if word_minus_c not in deletes:\n",
    "                        deletes.append(word_minus_c)\n",
    "                    if word_minus_c not in temp_queue:\n",
    "                        temp_queue.append(word_minus_c)\n",
    "        queue = temp_queue\n",
    "        \n",
    "    return deletes\n",
    "\n",
    "def create_dictionary_entry(w):\n",
    "    '''add word and its derived deletions to dictionary'''\n",
    "    # check if word is already in dictionary\n",
    "    # dictionary entries are in the form: (list of suggested corrections,\n",
    "    # frequency of word in corpus)\n",
    "    global longest_word_length\n",
    "    new_real_word_added = False\n",
    "    if w in dictionary:\n",
    "        # increment count of word in corpus\n",
    "        dictionary[w] = (dictionary[w][0], dictionary[w][1] + 1)  \n",
    "    else:\n",
    "        dictionary[w] = ([], 1)  \n",
    "        longest_word_length = max(longest_word_length, len(w))\n",
    "        \n",
    "    if dictionary[w][1]==1:\n",
    "        # first appearance of word in corpus\n",
    "        # n.b. word may already be in dictionary as a derived word \n",
    "        # (deleting character from a real word)\n",
    "        # but counter of frequency of word in corpus is not incremented \n",
    "        # in those cases)\n",
    "        new_real_word_added = True\n",
    "        deletes = get_deletes_list(w)\n",
    "        for item in deletes:\n",
    "            if item in dictionary:\n",
    "                # add (correct) word to delete's suggested correction list \n",
    "                dictionary[item][0].append(w)\n",
    "            else:\n",
    "                # note frequency of word in corpus is not incremented\n",
    "                dictionary[item] = ([w], 0)  \n",
    "        \n",
    "    return new_real_word_added\n",
    "\n",
    "def create_dictionary(fname):\n",
    "\n",
    "    total_word_count = 0\n",
    "    unique_word_count = 0\n",
    "    \n",
    "    with open(fname) as file:\n",
    "        for line in file:\n",
    "            # separate by words by non-alphabetical characters      \n",
    "            words = re.findall('[a-z]+', line.lower())  \n",
    "            for word in words:\n",
    "                total_word_count += 1\n",
    "                if create_dictionary_entry(word):\n",
    "                    unique_word_count += 1\n",
    "        \n",
    "    return dictionary\n",
    "\n",
    "def dameraulevenshtein(seq1, seq2):\n",
    "    \"\"\"Calculate the Damerau-Levenshtein distance between sequences.\n",
    "    This method has not been modified from the original.\n",
    "    Source: http://mwh.geek.nz/2009/04/26/python-damerau-levenshtein-distance/\n",
    "    \n",
    "    This distance is the number of additions, deletions, substitutions,\n",
    "    and transpositions needed to transform the first sequence into the\n",
    "    second. Although generally used with strings, any sequences of\n",
    "    comparable objects will work.\n",
    "    Transpositions are exchanges of *consecutive* characters; all other\n",
    "    operations are self-explanatory.\n",
    "    This implementation is O(N*M) time and O(M) space, for N and M the\n",
    "    lengths of the two sequences.\n",
    "    >>> dameraulevenshtein('ba', 'abc')\n",
    "    2\n",
    "    >>> dameraulevenshtein('fee', 'deed')\n",
    "    2\n",
    "    It works with arbitrary sequences too:\n",
    "    >>> dameraulevenshtein('abcd', ['b', 'a', 'c', 'd', 'e'])\n",
    "    2\n",
    "    \"\"\"\n",
    "    # codesnippet:D0DE4716-B6E6-4161-9219-2903BF8F547F\n",
    "    # Conceptually, this is based on a len(seq1) + 1 * len(seq2) + 1 matrix.\n",
    "    # However, only the current and two previous rows are needed at once,\n",
    "    # so we only store those.\n",
    "    oneago = None\n",
    "    thisrow = range(1, len(seq2) + 1) + [0]\n",
    "    for x in range(len(seq1)):\n",
    "        # Python lists wrap around for negative indices, so put the\n",
    "        # leftmost column at the *end* of the list. This matches with\n",
    "        # the zero-indexed strings and saves extra calculation.\n",
    "        twoago, oneago, thisrow = oneago, thisrow, [0] * len(seq2) + [x + 1]\n",
    "        for y in range(len(seq2)):\n",
    "            delcost = oneago[y] + 1\n",
    "            addcost = thisrow[y - 1] + 1\n",
    "            subcost = oneago[y - 1] + (seq1[x] != seq2[y])\n",
    "            thisrow[y] = min(delcost, addcost, subcost)\n",
    "            # This block deals with transpositions\n",
    "            if (x > 0 and y > 0 and seq1[x] == seq2[y - 1]\n",
    "                and seq1[x-1] == seq2[y] and seq1[x] != seq2[y]):\n",
    "                thisrow[y] = min(thisrow[y], twoago[y - 2] + 1)\n",
    "    return thisrow[len(seq2) - 1]\n",
    "\n",
    "def get_suggestions(string, silent=False):\n",
    "    '''return list of suggested corrections for potentially incorrectly\n",
    "       spelled word'''\n",
    "    if (len(string) - longest_word_length) > max_edit_distance:\n",
    "        return []\n",
    "    \n",
    "    global verbose\n",
    "    suggest_dict = {}\n",
    "    min_suggest_len = float('inf')\n",
    "    \n",
    "    queue = [string]\n",
    "    q_dictionary = {}  # items other than string that we've checked\n",
    "    \n",
    "    while len(queue)>0:\n",
    "        q_item = queue[0]  # pop\n",
    "        queue = queue[1:]\n",
    "        \n",
    "        # early exit\n",
    "        if ((verbose<2) and (len(suggest_dict)>0) and \n",
    "              ((len(string)-len(q_item))>min_suggest_len)):\n",
    "            break\n",
    "        \n",
    "        # process queue item\n",
    "        if (q_item in dictionary) and (q_item not in suggest_dict):\n",
    "            if (dictionary[q_item][1]>0):\n",
    "            # word is in dictionary, and is a word from the corpus, and \n",
    "            # not already in suggestion list so add to suggestion \n",
    "            # dictionary, indexed by the word with value (frequency in\n",
    "            # corpus, edit distance)\n",
    "            # note q_items that are not the input string are shorter \n",
    "            # than input string since only deletes are added (unless \n",
    "            # manual dictionary corrections are added)\n",
    "                assert len(string)>=len(q_item)\n",
    "                suggest_dict[q_item] = (dictionary[q_item][1], \n",
    "                                        len(string) - len(q_item))\n",
    "                # early exit\n",
    "                if ((verbose<2) and (len(string)==len(q_item))):\n",
    "                    break\n",
    "                elif (len(string) - len(q_item)) < min_suggest_len:\n",
    "                    min_suggest_len = len(string) - len(q_item)\n",
    "            \n",
    "            # the suggested corrections for q_item as stored in \n",
    "            # dictionary (whether or not q_item itself is a valid word \n",
    "            # or merely a delete) can be valid corrections\n",
    "            for sc_item in dictionary[q_item][0]:\n",
    "                if (sc_item not in suggest_dict):\n",
    "                    \n",
    "                    # compute edit distance\n",
    "                    # suggested items should always be longer \n",
    "                    # (unless manual corrections are added)\n",
    "                    assert len(sc_item)>len(q_item)\n",
    "\n",
    "                    # q_items that are not input should be shorter \n",
    "                    # than original string \n",
    "                    # (unless manual corrections added)\n",
    "                    assert len(q_item)<=len(string)\n",
    "\n",
    "                    if len(q_item)==len(string):\n",
    "                        assert q_item==string\n",
    "                        item_dist = len(sc_item) - len(q_item)\n",
    "\n",
    "                    # item in suggestions list should not be the same as \n",
    "                    # the string itself\n",
    "                    assert sc_item!=string\n",
    "\n",
    "                    # calculate edit distance using, for example, \n",
    "                    # Damerau-Levenshtein distance\n",
    "                    item_dist = dameraulevenshtein(sc_item, string)\n",
    "                    \n",
    "                    # do not add words with greater edit distance if \n",
    "                    # verbose setting not on\n",
    "                    if ((verbose<2) and (item_dist>min_suggest_len)):\n",
    "                        pass\n",
    "                    elif item_dist<=max_edit_distance:\n",
    "                        assert sc_item in dictionary  # should already be in dictionary if in suggestion list\n",
    "                        suggest_dict[sc_item] = (dictionary[sc_item][1], item_dist)\n",
    "                        if item_dist < min_suggest_len:\n",
    "                            min_suggest_len = item_dist\n",
    "                    \n",
    "                    # depending on order words are processed, some words \n",
    "                    # with different edit distances may be entered into\n",
    "                    # suggestions; trim suggestion dictionary if verbose\n",
    "                    # setting not on\n",
    "                    if verbose<2:\n",
    "                        suggest_dict = {k:v for k, v in suggest_dict.items() if v[1]<=min_suggest_len}\n",
    "                \n",
    "        # now generate deletes (e.g. a substring of string or of a delete)\n",
    "        # from the queue item\n",
    "        # as additional items to check -- add to end of queue\n",
    "        assert len(string)>=len(q_item)\n",
    "                    \n",
    "        # do not add words with greater edit distance if verbose setting \n",
    "        # is not on\n",
    "        if ((verbose<2) and ((len(string)-len(q_item))>min_suggest_len)):\n",
    "            pass\n",
    "        elif (len(string)-len(q_item))<max_edit_distance and len(q_item)>1:\n",
    "            for c in range(len(q_item)): # character index        \n",
    "                word_minus_c = q_item[:c] + q_item[c+1:]\n",
    "                if word_minus_c not in q_dictionary:\n",
    "                    queue.append(word_minus_c)\n",
    "                    q_dictionary[word_minus_c] = None  # arbitrary value, just to identify we checked this\n",
    "                     \n",
    "    # queue is now empty: convert suggestions in dictionary to \n",
    "    # list for output\n",
    "    \n",
    "    # output option 1\n",
    "    # sort results by ascending order of edit distance and descending \n",
    "    # order of frequency\n",
    "    #     and return list of suggested word corrections only:\n",
    "    # return sorted(suggest_dict, key = lambda x: \n",
    "    #               (suggest_dict[x][1], -suggest_dict[x][0]))\n",
    "\n",
    "    # output option 2\n",
    "    # return list of suggestions with (correction, \n",
    "    #                                  (frequency in corpus, edit distance)):\n",
    "    as_list = suggest_dict.items()\n",
    "    outlist = sorted(as_list, key=lambda term, freq, dist: (dist, -freq))\n",
    "    \n",
    "    if verbose==0:\n",
    "        return outlist[0]\n",
    "    else:\n",
    "        return outlist\n",
    "\n",
    "    '''\n",
    "    Option 1:\n",
    "    ['file', 'five', 'fire', 'fine', ...]\n",
    "    \n",
    "    Option 2:\n",
    "    [('file', (5, 0)),\n",
    "     ('five', (67, 1)),\n",
    "     ('fire', (54, 1)),\n",
    "     ('fine', (17, 1))...]  \n",
    "    '''\n",
    "\n",
    "def best_word(s, silent=False):\n",
    "    try:\n",
    "        return get_suggestions(s, silent)[0]\n",
    "    except:\n",
    "        return None\n",
    "\n",
    "# ## main\n",
    "\n",
    "# import time\n",
    "\n",
    "# if __name__ == \"__main__\":\n",
    "    \n",
    "#     print \"Please wait...\"\n",
    "#     time.sleep(2)\n",
    "#     start_time = time.time()\n",
    "#     try:\n",
    "#         create_dictionary(\"big.txt\")\n",
    "#     except:\n",
    "#         create_dictionary(\"testdata/big.txt\")\n",
    "#     run_time = time.time() - start_time\n",
    "#     print '-----'\n",
    "#     print '%.2f seconds to run' % run_time\n",
    "#     print '-----'\n",
    "\n",
    "#     print \" \"\n",
    "#     print \"Word correction\"\n",
    "#     print \"---------------\"\n",
    "    \n",
    "#     while True:\n",
    "#         word_in = raw_input('Enter your input (or enter to exit): ')\n",
    "#         if len(word_in)==0:\n",
    "#             print \"goodbye\"\n",
    "#             break\n",
    "#         start_time = time.time()\n",
    "#         print get_suggestions(word_in)\n",
    "#         run_time = time.time() - start_time\n",
    "#         print '-----'\n",
    "#         print '%.5f seconds to run' % run_time\n",
    "#         print '-----'\n",
    "# print \" \""
   ]
  },
  {
   "cell_type": "code",
   "execution_count": null,
   "metadata": {
    "collapsed": true
   },
   "outputs": [],
   "source": []
  },
  {
   "cell_type": "code",
   "execution_count": null,
   "metadata": {
    "collapsed": true
   },
   "outputs": [],
   "source": []
  },
  {
   "cell_type": "code",
   "execution_count": 115,
   "metadata": {},
   "outputs": [],
   "source": [
    "vocab = pd.read_csv('/home/gas/Documents/Yandex_ML_track_2018/models/1grams-3.txt', sep='\\t', header=None,\n",
    "                   names=['freq', 'word'])\n",
    "vocab = vocab.dropna().reset_index(drop=True)\n",
    "vocab['len'] = vocab['word'].apply(lambda row: len(row))\n",
    "vocab['first_symbol'] = vocab['word'].apply(lambda row: row[0])\n",
    "vocab['last_symbol'] = vocab['word'].apply(lambda row: row[-1])"
   ]
  },
  {
   "cell_type": "code",
   "execution_count": 116,
   "metadata": {},
   "outputs": [
    {
     "name": "stdout",
     "output_type": "stream",
     "text": [
      "<class 'pandas.core.frame.DataFrame'>\n",
      "RangeIndex: 1054208 entries, 0 to 1054207\n",
      "Data columns (total 5 columns):\n",
      "freq            1054208 non-null int64\n",
      "word            1054208 non-null object\n",
      "len             1054208 non-null int64\n",
      "first_symbol    1054208 non-null object\n",
      "last_symbol     1054208 non-null object\n",
      "dtypes: int64(2), object(3)\n",
      "memory usage: 40.2+ MB\n"
     ]
    }
   ],
   "source": [
    "vocab.info()"
   ]
  },
  {
   "cell_type": "code",
   "execution_count": 117,
   "metadata": {},
   "outputs": [
    {
     "data": {
      "text/plain": [
       "(1054208, 5)"
      ]
     },
     "execution_count": 117,
     "metadata": {},
     "output_type": "execute_result"
    }
   ],
   "source": [
    "vocab.shape"
   ]
  },
  {
   "cell_type": "code",
   "execution_count": 119,
   "metadata": {},
   "outputs": [
    {
     "data": {
      "text/html": [
       "<div>\n",
       "<style>\n",
       "    .dataframe thead tr:only-child th {\n",
       "        text-align: right;\n",
       "    }\n",
       "\n",
       "    .dataframe thead th {\n",
       "        text-align: left;\n",
       "    }\n",
       "\n",
       "    .dataframe tbody tr th {\n",
       "        vertical-align: top;\n",
       "    }\n",
       "</style>\n",
       "<table border=\"1\" class=\"dataframe\">\n",
       "  <thead>\n",
       "    <tr style=\"text-align: right;\">\n",
       "      <th></th>\n",
       "      <th>freq</th>\n",
       "      <th>word</th>\n",
       "      <th>len</th>\n",
       "      <th>first_symbol</th>\n",
       "      <th>last_symbol</th>\n",
       "    </tr>\n",
       "  </thead>\n",
       "  <tbody>\n",
       "    <tr>\n",
       "      <th>0</th>\n",
       "      <td>6829968</td>\n",
       "      <td>и</td>\n",
       "      <td>1</td>\n",
       "      <td>и</td>\n",
       "      <td>и</td>\n",
       "    </tr>\n",
       "    <tr>\n",
       "      <th>1</th>\n",
       "      <td>5190215</td>\n",
       "      <td>в</td>\n",
       "      <td>1</td>\n",
       "      <td>в</td>\n",
       "      <td>в</td>\n",
       "    </tr>\n",
       "    <tr>\n",
       "      <th>2</th>\n",
       "      <td>3164900</td>\n",
       "      <td>не</td>\n",
       "      <td>2</td>\n",
       "      <td>н</td>\n",
       "      <td>е</td>\n",
       "    </tr>\n",
       "    <tr>\n",
       "      <th>3</th>\n",
       "      <td>2729210</td>\n",
       "      <td>на</td>\n",
       "      <td>2</td>\n",
       "      <td>н</td>\n",
       "      <td>а</td>\n",
       "    </tr>\n",
       "    <tr>\n",
       "      <th>4</th>\n",
       "      <td>2064408</td>\n",
       "      <td>с</td>\n",
       "      <td>1</td>\n",
       "      <td>с</td>\n",
       "      <td>с</td>\n",
       "    </tr>\n",
       "  </tbody>\n",
       "</table>\n",
       "</div>"
      ],
      "text/plain": [
       "      freq word  len first_symbol last_symbol\n",
       "0  6829968    и    1            и           и\n",
       "1  5190215    в    1            в           в\n",
       "2  3164900   не    2            н           е\n",
       "3  2729210   на    2            н           а\n",
       "4  2064408    с    1            с           с"
      ]
     },
     "execution_count": 119,
     "metadata": {},
     "output_type": "execute_result"
    }
   ],
   "source": [
    "vocab.head()"
   ]
  },
  {
   "cell_type": "code",
   "execution_count": 120,
   "metadata": {
    "collapsed": true
   },
   "outputs": [],
   "source": [
    "def dameraulevenshtein(seq1, data, trsh):\n",
    "    data = pd.concat([data[(data['first_symbol'] == seq1[0])&(data['last_symbol'] != seq1[-1])], \n",
    "                      data[(data['first_symbol'] != seq1[0])&(data['last_symbol'] == seq1[-1])],\n",
    "                      data[(data['first_symbol'] != seq1[0])&(data['last_symbol'] != seq1[-1])]])\n",
    "    #data = data[data['first_symbol'] == seq1[0]].append(data[data['first_symbol'] != seq1[0]])\n",
    "    variants, closest = [], (np.inf, None)\n",
    "    for i in data['word'].index:\n",
    "        seq2 = data['word'].loc[i]\n",
    "        oneago = None\n",
    "        thisrow = list(range(1, len(seq2) + 1)) + [0]\n",
    "        for x in range(len(seq1)):\n",
    "            # Python lists wrap around for negative indices, so put the\n",
    "            # leftmost column at the *end* of the list. This matches with\n",
    "            # the zero-indexed strings and saves extra calculation.\n",
    "            twoago, oneago, thisrow = oneago, thisrow, [0] * len(seq2) + [x + 1]\n",
    "            for y in range(len(seq2)):\n",
    "                delcost = oneago[y] + 1\n",
    "                addcost = thisrow[y - 1] + 1\n",
    "                subcost = oneago[y - 1] + (seq1[x] != seq2[y])\n",
    "                thisrow[y] = min(delcost, addcost, subcost)\n",
    "                # This block deals with transpositions\n",
    "                if (x > 0 and y > 0 and seq1[x] == seq2[y - 1]\n",
    "                    and seq1[x-1] == seq2[y] and seq1[x] != seq2[y]):\n",
    "                    thisrow[y] = min(thisrow[y], twoago[y - 2] + 1)\n",
    "        result = thisrow[len(seq2) - 1]\n",
    "        if result < closest[0]:\n",
    "            closest = (result, i)\n",
    "        if result < trsh:\n",
    "            variants.append(i)\n",
    "        if len(variants) > 1:\n",
    "            return data[data['freq'] == data['freq'].loc[variants].max()]['word'].values[0]\n",
    "    if closest[0] <= trsh:\n",
    "        return data['word'].loc[closest[1]]"
   ]
  },
  {
   "cell_type": "code",
   "execution_count": 9,
   "metadata": {},
   "outputs": [
    {
     "name": "stdout",
     "output_type": "stream",
     "text": [
      "CPU times: user 24.3 s, sys: 16.3 ms, total: 24.4 s\n",
      "Wall time: 24.4 s\n"
     ]
    }
   ],
   "source": [
    "%%time\n",
    "\n",
    "query = 'сосатб'\n",
    "if query not in vocab['word']:\n",
    "    result = vocab[(vocab['len'] >= len(query)-3) & (vocab['len'] <= len(query)+3) & (vocab['len'] <= len(query)+3)]['word'].map(lambda x: dameraulevenshtein(query, x))\n",
    "    result = vocab.loc[result[(result == result.min()) & (result.min() < 3)].index]['word'].values[0]"
   ]
  },
  {
   "cell_type": "code",
   "execution_count": 123,
   "metadata": {},
   "outputs": [
    {
     "name": "stdout",
     "output_type": "stream",
     "text": [
      "CPU times: user 915 ms, sys: 12 ms, total: 927 ms\n",
      "Wall time: 926 ms\n"
     ]
    }
   ],
   "source": [
    "%%time\n",
    "\n",
    "query = 'сосатб'\n",
    "trsh = 3\n",
    "if query not in vocab['word'].values:\n",
    "    result = dameraulevenshtein(query, vocab[(vocab['len'] >= len(query)-trsh) & (vocab['len'] <= len(query)+trsh) & (vocab['len'] <= len(query)+3)], trsh)\n",
    "else:\n",
    "    result = query"
   ]
  },
  {
   "cell_type": "code",
   "execution_count": 124,
   "metadata": {},
   "outputs": [
    {
     "data": {
      "text/plain": [
       "'состав'"
      ]
     },
     "execution_count": 124,
     "metadata": {},
     "output_type": "execute_result"
    }
   ],
   "source": [
    "result"
   ]
  },
  {
   "cell_type": "code",
   "execution_count": null,
   "metadata": {
    "collapsed": true
   },
   "outputs": [],
   "source": []
  },
  {
   "cell_type": "code",
   "execution_count": null,
   "metadata": {
    "collapsed": true
   },
   "outputs": [],
   "source": []
  },
  {
   "cell_type": "code",
   "execution_count": null,
   "metadata": {
    "collapsed": true
   },
   "outputs": [],
   "source": []
  },
  {
   "cell_type": "code",
   "execution_count": null,
   "metadata": {
    "collapsed": true
   },
   "outputs": [],
   "source": []
  },
  {
   "cell_type": "code",
   "execution_count": 246,
   "metadata": {
    "collapsed": true
   },
   "outputs": [],
   "source": [
    "import matplotlib.pyplot as plt\n",
    "import seaborn\n",
    "%matplotlib inline"
   ]
  },
  {
   "cell_type": "code",
   "execution_count": null,
   "metadata": {
    "collapsed": true
   },
   "outputs": [],
   "source": [
    "results = {\n",
    "    'counter_char_ridge':[85700, 84100],\n",
    "    'counter_word_ridge':[85738, 84248],\n",
    "    'tfidf_word_ridge':[85774, 82714],\n",
    "    'counter_svd_ridge':,\n",
    "    'counter_tfidf_svd_ridge':,\n",
    "    'counter_tfidf_svd_lgbm':[85743,8515],\n",
    "    'w2v_tfidf_ridge':[85700, 82591],\n",
    "    'w2v_tfidf_lgbm':[85541, 82858],\n",
    "}"
   ]
  },
  {
   "cell_type": "code",
   "execution_count": null,
   "metadata": {
    "collapsed": true
   },
   "outputs": [],
   "source": []
  },
  {
   "cell_type": "code",
   "execution_count": null,
   "metadata": {
    "collapsed": true
   },
   "outputs": [],
   "source": []
  }
 ],
 "metadata": {
  "kernelspec": {
   "display_name": "Python 3",
   "language": "python",
   "name": "python3"
  },
  "language_info": {
   "codemirror_mode": {
    "name": "ipython",
    "version": 3
   },
   "file_extension": ".py",
   "mimetype": "text/x-python",
   "name": "python",
   "nbconvert_exporter": "python",
   "pygments_lexer": "ipython3",
   "version": "3.6.1"
  }
 },
 "nbformat": 4,
 "nbformat_minor": 2
}
