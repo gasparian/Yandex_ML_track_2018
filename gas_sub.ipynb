{
 "cells": [
  {
   "cell_type": "code",
   "execution_count": 228,
   "metadata": {},
   "outputs": [],
   "source": [
    "import pandas as pd\n",
    "import numpy as np"
   ]
  },
  {
   "cell_type": "code",
   "execution_count": 229,
   "metadata": {
    "collapsed": true
   },
   "outputs": [],
   "source": [
    "path = '/home/gas/Documents/Yandex_ML_track_2018/'"
   ]
  },
  {
   "cell_type": "code",
   "execution_count": 230,
   "metadata": {
    "collapsed": true
   },
   "outputs": [],
   "source": [
    "train = pd.read_csv(path+'data/train.tsv', sep='\\t', quoting=3, header=None)\n",
    "test = pd.read_csv(path+'data/public.tsv', sep='\\t', quoting=3, error_bad_lines=False, header=None)"
   ]
  },
  {
   "cell_type": "code",
   "execution_count": 231,
   "metadata": {},
   "outputs": [
    {
     "name": "stdout",
     "output_type": "stream",
     "text": [
      "<class 'pandas.core.frame.DataFrame'>\n",
      "RangeIndex: 97533 entries, 0 to 97532\n",
      "Data columns (total 8 columns):\n",
      "0    97533 non-null int64\n",
      "1    48559 non-null object\n",
      "2    72502 non-null object\n",
      "3    97533 non-null object\n",
      "4    97533 non-null int64\n",
      "5    97533 non-null object\n",
      "6    97533 non-null object\n",
      "7    97533 non-null float64\n",
      "dtypes: float64(1), int64(2), object(5)\n",
      "memory usage: 6.0+ MB\n"
     ]
    }
   ],
   "source": [
    "train.info()"
   ]
  },
  {
   "cell_type": "code",
   "execution_count": 232,
   "metadata": {
    "collapsed": true
   },
   "outputs": [],
   "source": [
    "train.fillna('', inplace=True)\n",
    "test.fillna('', inplace=True)"
   ]
  },
  {
   "cell_type": "code",
   "execution_count": 233,
   "metadata": {
    "collapsed": true
   },
   "outputs": [],
   "source": [
    "# расставляем значения по формуле хорошесть * confidence\n",
    "# Good (3)\n",
    "# Neutral (2)\n",
    "# Bad (1)"
   ]
  },
  {
   "cell_type": "code",
   "execution_count": 234,
   "metadata": {
    "collapsed": true
   },
   "outputs": [],
   "source": [
    "def rank2num(st):\n",
    "    if st == 'good':\n",
    "        return 3\n",
    "    else:\n",
    "        if st == 'neutral':\n",
    "            return 2\n",
    "        else:\n",
    "            return 1"
   ]
  },
  {
   "cell_type": "code",
   "execution_count": 235,
   "metadata": {},
   "outputs": [
    {
     "data": {
      "text/html": [
       "<div>\n",
       "<style>\n",
       "    .dataframe thead tr:only-child th {\n",
       "        text-align: right;\n",
       "    }\n",
       "\n",
       "    .dataframe thead th {\n",
       "        text-align: left;\n",
       "    }\n",
       "\n",
       "    .dataframe tbody tr th {\n",
       "        vertical-align: top;\n",
       "    }\n",
       "</style>\n",
       "<table border=\"1\" class=\"dataframe\">\n",
       "  <thead>\n",
       "    <tr style=\"text-align: right;\">\n",
       "      <th></th>\n",
       "      <th>0</th>\n",
       "      <th>1</th>\n",
       "      <th>2</th>\n",
       "      <th>3</th>\n",
       "      <th>4</th>\n",
       "      <th>5</th>\n",
       "      <th>6</th>\n",
       "      <th>7</th>\n",
       "      <th>rank</th>\n",
       "      <th>target</th>\n",
       "    </tr>\n",
       "  </thead>\n",
       "  <tbody>\n",
       "    <tr>\n",
       "      <th>0</th>\n",
       "      <td>22579918886</td>\n",
       "      <td>кликни на меня а потом на надпись \" видео - зв...</td>\n",
       "      <td>о , я тебя вижу .</td>\n",
       "      <td>ладно , повесь трубку .</td>\n",
       "      <td>0</td>\n",
       "      <td>не могу .</td>\n",
       "      <td>good</td>\n",
       "      <td>0.875352</td>\n",
       "      <td>3</td>\n",
       "      <td>2.626055</td>\n",
       "    </tr>\n",
       "    <tr>\n",
       "      <th>1</th>\n",
       "      <td>22579918886</td>\n",
       "      <td>кликни на меня а потом на надпись \" видео - зв...</td>\n",
       "      <td>о , я тебя вижу .</td>\n",
       "      <td>ладно , повесь трубку .</td>\n",
       "      <td>1</td>\n",
       "      <td>нет , звонить буду я .</td>\n",
       "      <td>neutral</td>\n",
       "      <td>0.900968</td>\n",
       "      <td>2</td>\n",
       "      <td>1.801936</td>\n",
       "    </tr>\n",
       "    <tr>\n",
       "      <th>2</th>\n",
       "      <td>22579918886</td>\n",
       "      <td>кликни на меня а потом на надпись \" видео - зв...</td>\n",
       "      <td>о , я тебя вижу .</td>\n",
       "      <td>ладно , повесь трубку .</td>\n",
       "      <td>2</td>\n",
       "      <td>слушай , я не мог уйти .</td>\n",
       "      <td>bad</td>\n",
       "      <td>0.884320</td>\n",
       "      <td>1</td>\n",
       "      <td>0.884320</td>\n",
       "    </tr>\n",
       "    <tr>\n",
       "      <th>3</th>\n",
       "      <td>22579918886</td>\n",
       "      <td>кликни на меня а потом на надпись \" видео - зв...</td>\n",
       "      <td>о , я тебя вижу .</td>\n",
       "      <td>ладно , повесь трубку .</td>\n",
       "      <td>3</td>\n",
       "      <td>я не прекращу звонить .</td>\n",
       "      <td>good</td>\n",
       "      <td>0.982530</td>\n",
       "      <td>3</td>\n",
       "      <td>2.947591</td>\n",
       "    </tr>\n",
       "    <tr>\n",
       "      <th>4</th>\n",
       "      <td>22579918886</td>\n",
       "      <td>кликни на меня а потом на надпись \" видео - зв...</td>\n",
       "      <td>о , я тебя вижу .</td>\n",
       "      <td>ладно , повесь трубку .</td>\n",
       "      <td>4</td>\n",
       "      <td>я звоню им .</td>\n",
       "      <td>good</td>\n",
       "      <td>0.838054</td>\n",
       "      <td>3</td>\n",
       "      <td>2.514161</td>\n",
       "    </tr>\n",
       "  </tbody>\n",
       "</table>\n",
       "</div>"
      ],
      "text/plain": [
       "             0                                                  1  \\\n",
       "0  22579918886  кликни на меня а потом на надпись \" видео - зв...   \n",
       "1  22579918886  кликни на меня а потом на надпись \" видео - зв...   \n",
       "2  22579918886  кликни на меня а потом на надпись \" видео - зв...   \n",
       "3  22579918886  кликни на меня а потом на надпись \" видео - зв...   \n",
       "4  22579918886  кликни на меня а потом на надпись \" видео - зв...   \n",
       "\n",
       "                   2                        3  4                         5  \\\n",
       "0  о , я тебя вижу .  ладно , повесь трубку .  0                 не могу .   \n",
       "1  о , я тебя вижу .  ладно , повесь трубку .  1    нет , звонить буду я .   \n",
       "2  о , я тебя вижу .  ладно , повесь трубку .  2  слушай , я не мог уйти .   \n",
       "3  о , я тебя вижу .  ладно , повесь трубку .  3   я не прекращу звонить .   \n",
       "4  о , я тебя вижу .  ладно , повесь трубку .  4              я звоню им .   \n",
       "\n",
       "         6         7  rank    target  \n",
       "0     good  0.875352     3  2.626055  \n",
       "1  neutral  0.900968     2  1.801936  \n",
       "2      bad  0.884320     1  0.884320  \n",
       "3     good  0.982530     3  2.947591  \n",
       "4     good  0.838054     3  2.514161  "
      ]
     },
     "execution_count": 235,
     "metadata": {},
     "output_type": "execute_result"
    }
   ],
   "source": [
    "train['rank'] = train[6].apply(rank2num)\n",
    "train['target'] = train['rank'] * train[7]\n",
    "train.head()"
   ]
  },
  {
   "cell_type": "code",
   "execution_count": 15,
   "metadata": {},
   "outputs": [
    {
     "data": {
      "text/html": [
       "<div>\n",
       "<style>\n",
       "    .dataframe thead tr:only-child th {\n",
       "        text-align: right;\n",
       "    }\n",
       "\n",
       "    .dataframe thead th {\n",
       "        text-align: left;\n",
       "    }\n",
       "\n",
       "    .dataframe tbody tr th {\n",
       "        vertical-align: top;\n",
       "    }\n",
       "</style>\n",
       "<table border=\"1\" class=\"dataframe\">\n",
       "  <thead>\n",
       "    <tr style=\"text-align: right;\">\n",
       "      <th></th>\n",
       "      <th>0</th>\n",
       "      <th>1</th>\n",
       "      <th>2</th>\n",
       "      <th>3</th>\n",
       "      <th>4</th>\n",
       "      <th>5</th>\n",
       "    </tr>\n",
       "  </thead>\n",
       "  <tbody>\n",
       "    <tr>\n",
       "      <th>0</th>\n",
       "      <td>138920940977</td>\n",
       "      <td>знаешь , я иногда подумываю , что тебе надо пр...</td>\n",
       "      <td>не - а .</td>\n",
       "      <td>нет ?</td>\n",
       "      <td>0</td>\n",
       "      <td>неа .</td>\n",
       "    </tr>\n",
       "    <tr>\n",
       "      <th>1</th>\n",
       "      <td>138920940977</td>\n",
       "      <td>знаешь , я иногда подумываю , что тебе надо пр...</td>\n",
       "      <td>не - а .</td>\n",
       "      <td>нет ?</td>\n",
       "      <td>1</td>\n",
       "      <td>нет , не хочу .</td>\n",
       "    </tr>\n",
       "    <tr>\n",
       "      <th>2</th>\n",
       "      <td>138920940977</td>\n",
       "      <td>знаешь , я иногда подумываю , что тебе надо пр...</td>\n",
       "      <td>не - а .</td>\n",
       "      <td>нет ?</td>\n",
       "      <td>2</td>\n",
       "      <td>нет .</td>\n",
       "    </tr>\n",
       "    <tr>\n",
       "      <th>3</th>\n",
       "      <td>138920940977</td>\n",
       "      <td>знаешь , я иногда подумываю , что тебе надо пр...</td>\n",
       "      <td>не - а .</td>\n",
       "      <td>нет ?</td>\n",
       "      <td>3</td>\n",
       "      <td>конечно , нет .</td>\n",
       "    </tr>\n",
       "    <tr>\n",
       "      <th>4</th>\n",
       "      <td>138920940977</td>\n",
       "      <td>знаешь , я иногда подумываю , что тебе надо пр...</td>\n",
       "      <td>не - а .</td>\n",
       "      <td>нет ?</td>\n",
       "      <td>4</td>\n",
       "      <td>разумеется , нет .</td>\n",
       "    </tr>\n",
       "  </tbody>\n",
       "</table>\n",
       "</div>"
      ],
      "text/plain": [
       "              0                                                  1         2  \\\n",
       "0  138920940977  знаешь , я иногда подумываю , что тебе надо пр...  не - а .   \n",
       "1  138920940977  знаешь , я иногда подумываю , что тебе надо пр...  не - а .   \n",
       "2  138920940977  знаешь , я иногда подумываю , что тебе надо пр...  не - а .   \n",
       "3  138920940977  знаешь , я иногда подумываю , что тебе надо пр...  не - а .   \n",
       "4  138920940977  знаешь , я иногда подумываю , что тебе надо пр...  не - а .   \n",
       "\n",
       "       3  4                   5  \n",
       "0  нет ?  0               неа .  \n",
       "1  нет ?  1     нет , не хочу .  \n",
       "2  нет ?  2               нет .  \n",
       "3  нет ?  3     конечно , нет .  \n",
       "4  нет ?  4  разумеется , нет .  "
      ]
     },
     "execution_count": 15,
     "metadata": {},
     "output_type": "execute_result"
    }
   ],
   "source": [
    "test.head()"
   ]
  },
  {
   "cell_type": "code",
   "execution_count": 16,
   "metadata": {},
   "outputs": [
    {
     "name": "stderr",
     "output_type": "stream",
     "text": [
      "/home/gas/anaconda3/lib/python3.6/site-packages/h5py/__init__.py:34: FutureWarning: Conversion of the second argument of issubdtype from `float` to `np.floating` is deprecated. In future, it will be treated as `np.float64 == np.dtype(float).type`.\n",
      "  from ._conv import register_converters as _register_converters\n",
      "Using TensorFlow backend.\n"
     ]
    }
   ],
   "source": [
    "import nltk\n",
    "#nltk.download('wordnet')\n",
    "\n",
    "from collections import OrderedDict\n",
    "from gensim.utils import deaccent\n",
    "import operator\n",
    "import pickle\n",
    "\n",
    "class getTokens:\n",
    "    \n",
    "    def __init__(self, garbage=['hello', 'hi', 'need', 'help', 'com', 'http', 'please', 'someone', 'etc', 'www']):\n",
    "        self.tokenizer = nltk.RegexpTokenizer('\\w+')        \n",
    "        self.lmtzr = nltk.stem.wordnet.WordNetLemmatizer()\n",
    "        self.garbage = set(garbage)\n",
    "    \n",
    "    def transform(self, text):\n",
    "        text = self.tokenizer.tokenize(text)\n",
    "        text = [self.lmtzr.lemmatize(deaccent(word.lower())) for word in text]\n",
    "        text = [word for word in text if len(word) > 1 and word not in self.garbage]\n",
    "        return ' '.join(text)"
   ]
  },
  {
   "cell_type": "code",
   "execution_count": 17,
   "metadata": {
    "collapsed": true
   },
   "outputs": [],
   "source": [
    "tokenize = getTokens()"
   ]
  },
  {
   "cell_type": "code",
   "execution_count": 18,
   "metadata": {
    "collapsed": true
   },
   "outputs": [],
   "source": [
    "text_cols = [1, 2, 3, 5]"
   ]
  },
  {
   "cell_type": "code",
   "execution_count": 19,
   "metadata": {},
   "outputs": [],
   "source": [
    "for col in text_cols:\n",
    "    train[col] = train[col].apply(tokenize.transform)\n",
    "    test[col] = test[col].apply(tokenize.transform)"
   ]
  },
  {
   "cell_type": "code",
   "execution_count": 20,
   "metadata": {},
   "outputs": [
    {
     "data": {
      "text/html": [
       "<div>\n",
       "<style>\n",
       "    .dataframe thead tr:only-child th {\n",
       "        text-align: right;\n",
       "    }\n",
       "\n",
       "    .dataframe thead th {\n",
       "        text-align: left;\n",
       "    }\n",
       "\n",
       "    .dataframe tbody tr th {\n",
       "        vertical-align: top;\n",
       "    }\n",
       "</style>\n",
       "<table border=\"1\" class=\"dataframe\">\n",
       "  <thead>\n",
       "    <tr style=\"text-align: right;\">\n",
       "      <th></th>\n",
       "      <th>0</th>\n",
       "      <th>1</th>\n",
       "      <th>2</th>\n",
       "      <th>3</th>\n",
       "      <th>4</th>\n",
       "      <th>5</th>\n",
       "      <th>6</th>\n",
       "      <th>7</th>\n",
       "      <th>rank</th>\n",
       "      <th>target</th>\n",
       "    </tr>\n",
       "  </thead>\n",
       "  <tbody>\n",
       "    <tr>\n",
       "      <th>0</th>\n",
       "      <td>22579918886</td>\n",
       "      <td>кликни на меня потом на надпись видео звонок</td>\n",
       "      <td>тебя вижу</td>\n",
       "      <td>ладно повесь трубку</td>\n",
       "      <td>0</td>\n",
       "      <td>не могу</td>\n",
       "      <td>good</td>\n",
       "      <td>0.875352</td>\n",
       "      <td>3</td>\n",
       "      <td>2.626055</td>\n",
       "    </tr>\n",
       "    <tr>\n",
       "      <th>1</th>\n",
       "      <td>22579918886</td>\n",
       "      <td>кликни на меня потом на надпись видео звонок</td>\n",
       "      <td>тебя вижу</td>\n",
       "      <td>ладно повесь трубку</td>\n",
       "      <td>1</td>\n",
       "      <td>нет звонить буду</td>\n",
       "      <td>neutral</td>\n",
       "      <td>0.900968</td>\n",
       "      <td>2</td>\n",
       "      <td>1.801936</td>\n",
       "    </tr>\n",
       "    <tr>\n",
       "      <th>2</th>\n",
       "      <td>22579918886</td>\n",
       "      <td>кликни на меня потом на надпись видео звонок</td>\n",
       "      <td>тебя вижу</td>\n",
       "      <td>ладно повесь трубку</td>\n",
       "      <td>2</td>\n",
       "      <td>слушаи не мог уити</td>\n",
       "      <td>bad</td>\n",
       "      <td>0.884320</td>\n",
       "      <td>1</td>\n",
       "      <td>0.884320</td>\n",
       "    </tr>\n",
       "    <tr>\n",
       "      <th>3</th>\n",
       "      <td>22579918886</td>\n",
       "      <td>кликни на меня потом на надпись видео звонок</td>\n",
       "      <td>тебя вижу</td>\n",
       "      <td>ладно повесь трубку</td>\n",
       "      <td>3</td>\n",
       "      <td>не прекращу звонить</td>\n",
       "      <td>good</td>\n",
       "      <td>0.982530</td>\n",
       "      <td>3</td>\n",
       "      <td>2.947591</td>\n",
       "    </tr>\n",
       "    <tr>\n",
       "      <th>4</th>\n",
       "      <td>22579918886</td>\n",
       "      <td>кликни на меня потом на надпись видео звонок</td>\n",
       "      <td>тебя вижу</td>\n",
       "      <td>ладно повесь трубку</td>\n",
       "      <td>4</td>\n",
       "      <td>звоню им</td>\n",
       "      <td>good</td>\n",
       "      <td>0.838054</td>\n",
       "      <td>3</td>\n",
       "      <td>2.514161</td>\n",
       "    </tr>\n",
       "  </tbody>\n",
       "</table>\n",
       "</div>"
      ],
      "text/plain": [
       "             0                                             1          2  \\\n",
       "0  22579918886  кликни на меня потом на надпись видео звонок  тебя вижу   \n",
       "1  22579918886  кликни на меня потом на надпись видео звонок  тебя вижу   \n",
       "2  22579918886  кликни на меня потом на надпись видео звонок  тебя вижу   \n",
       "3  22579918886  кликни на меня потом на надпись видео звонок  тебя вижу   \n",
       "4  22579918886  кликни на меня потом на надпись видео звонок  тебя вижу   \n",
       "\n",
       "                     3  4                    5        6         7  rank  \\\n",
       "0  ладно повесь трубку  0              не могу     good  0.875352     3   \n",
       "1  ладно повесь трубку  1     нет звонить буду  neutral  0.900968     2   \n",
       "2  ладно повесь трубку  2   слушаи не мог уити      bad  0.884320     1   \n",
       "3  ладно повесь трубку  3  не прекращу звонить     good  0.982530     3   \n",
       "4  ладно повесь трубку  4             звоню им     good  0.838054     3   \n",
       "\n",
       "     target  \n",
       "0  2.626055  \n",
       "1  1.801936  \n",
       "2  0.884320  \n",
       "3  2.947591  \n",
       "4  2.514161  "
      ]
     },
     "execution_count": 20,
     "metadata": {},
     "output_type": "execute_result"
    }
   ],
   "source": [
    "train.head()"
   ]
  },
  {
   "cell_type": "code",
   "execution_count": 21,
   "metadata": {},
   "outputs": [
    {
     "data": {
      "text/html": [
       "<div>\n",
       "<style>\n",
       "    .dataframe thead tr:only-child th {\n",
       "        text-align: right;\n",
       "    }\n",
       "\n",
       "    .dataframe thead th {\n",
       "        text-align: left;\n",
       "    }\n",
       "\n",
       "    .dataframe tbody tr th {\n",
       "        vertical-align: top;\n",
       "    }\n",
       "</style>\n",
       "<table border=\"1\" class=\"dataframe\">\n",
       "  <thead>\n",
       "    <tr style=\"text-align: right;\">\n",
       "      <th></th>\n",
       "      <th>0</th>\n",
       "      <th>1</th>\n",
       "      <th>2</th>\n",
       "      <th>3</th>\n",
       "      <th>4</th>\n",
       "      <th>5</th>\n",
       "    </tr>\n",
       "  </thead>\n",
       "  <tbody>\n",
       "    <tr>\n",
       "      <th>0</th>\n",
       "      <td>138920940977</td>\n",
       "      <td>знаешь иногда подумываю что тебе надо принести...</td>\n",
       "      <td>не</td>\n",
       "      <td>нет</td>\n",
       "      <td>0</td>\n",
       "      <td>неа</td>\n",
       "    </tr>\n",
       "    <tr>\n",
       "      <th>1</th>\n",
       "      <td>138920940977</td>\n",
       "      <td>знаешь иногда подумываю что тебе надо принести...</td>\n",
       "      <td>не</td>\n",
       "      <td>нет</td>\n",
       "      <td>1</td>\n",
       "      <td>нет не хочу</td>\n",
       "    </tr>\n",
       "    <tr>\n",
       "      <th>2</th>\n",
       "      <td>138920940977</td>\n",
       "      <td>знаешь иногда подумываю что тебе надо принести...</td>\n",
       "      <td>не</td>\n",
       "      <td>нет</td>\n",
       "      <td>2</td>\n",
       "      <td>нет</td>\n",
       "    </tr>\n",
       "    <tr>\n",
       "      <th>3</th>\n",
       "      <td>138920940977</td>\n",
       "      <td>знаешь иногда подумываю что тебе надо принести...</td>\n",
       "      <td>не</td>\n",
       "      <td>нет</td>\n",
       "      <td>3</td>\n",
       "      <td>конечно нет</td>\n",
       "    </tr>\n",
       "    <tr>\n",
       "      <th>4</th>\n",
       "      <td>138920940977</td>\n",
       "      <td>знаешь иногда подумываю что тебе надо принести...</td>\n",
       "      <td>не</td>\n",
       "      <td>нет</td>\n",
       "      <td>4</td>\n",
       "      <td>разумеется нет</td>\n",
       "    </tr>\n",
       "  </tbody>\n",
       "</table>\n",
       "</div>"
      ],
      "text/plain": [
       "              0                                                  1   2    3  \\\n",
       "0  138920940977  знаешь иногда подумываю что тебе надо принести...  не  нет   \n",
       "1  138920940977  знаешь иногда подумываю что тебе надо принести...  не  нет   \n",
       "2  138920940977  знаешь иногда подумываю что тебе надо принести...  не  нет   \n",
       "3  138920940977  знаешь иногда подумываю что тебе надо принести...  не  нет   \n",
       "4  138920940977  знаешь иногда подумываю что тебе надо принести...  не  нет   \n",
       "\n",
       "   4               5  \n",
       "0  0             неа  \n",
       "1  1     нет не хочу  \n",
       "2  2             нет  \n",
       "3  3     конечно нет  \n",
       "4  4  разумеется нет  "
      ]
     },
     "execution_count": 21,
     "metadata": {},
     "output_type": "execute_result"
    }
   ],
   "source": [
    "test.head()"
   ]
  },
  {
   "cell_type": "code",
   "execution_count": 22,
   "metadata": {
    "collapsed": true
   },
   "outputs": [],
   "source": [
    "from sklearn.feature_extraction.text import TfidfVectorizer, CountVectorizer\n",
    "from sklearn.decomposition import TruncatedSVD\n",
    "from sklearn import pipeline"
   ]
  },
  {
   "cell_type": "code",
   "execution_count": 196,
   "metadata": {
    "collapsed": true
   },
   "outputs": [],
   "source": [
    "svd_n_components = 300\n",
    "max_features = 500000"
   ]
  },
  {
   "cell_type": "code",
   "execution_count": 212,
   "metadata": {},
   "outputs": [],
   "source": [
    "counters_pipe = pipeline.FeatureUnion(\n",
    "    n_jobs = -1,\n",
    "    transformer_list = [\n",
    "    ('chars_features', pipeline.Pipeline([\n",
    "        ('chars_counter', CountVectorizer(\n",
    "            analyzer=u'char', ngram_range=(2, 4), tokenizer=None,\n",
    "            max_features=max_features, strip_accents=None, max_df=0.9, min_df=2, lowercase=False)),\n",
    "        ('chars_tsvd', TruncatedSVD(n_components=svd_n_components, n_iter=25, random_state=42))])),\n",
    "    ('words_features', pipeline.Pipeline([\n",
    "        ('words_counter', CountVectorizer(\n",
    "            analyzer=u'word', ngram_range=(1, 3), tokenizer=None,\n",
    "            max_features=max_features, strip_accents=None, max_df=0.9, min_df=2, lowercase=False)),\n",
    "        ('words_tsvd', TruncatedSVD(n_components=svd_n_components, n_iter=25, random_state=42))])),\n",
    "])\n",
    "\n",
    "tfidf_pipe = pipeline.Pipeline([\n",
    "    ('words_tfidf', TfidfVectorizer(\n",
    "       analyzer=u'word', ngram_range=(1, 3), tokenizer=None,\n",
    "       max_features=max_features, strip_accents=None, max_df=0.9, min_df=2, lowercase=False)),\n",
    "    ('words_tsvd', TruncatedSVD(n_components=svd_n_components*2, n_iter=25, random_state=42))])"
   ]
  },
  {
   "cell_type": "code",
   "execution_count": null,
   "metadata": {
    "collapsed": true
   },
   "outputs": [],
   "source": [
    "from gensim.models import KeyedVectors\n",
    "\n",
    "skipgram_ru = KeyedVectors.load_word2vec_format(path+'/models/ruwikiruscorpora_upos_skipgram_300_2_2018.vec.gz')\n",
    "lmtzr = nltk.stem.wordnet.WordNetLemmatizer()\n",
    "new_skipgram_ru = {}\n",
    "for word in skipgram_ru.vocab.keys():\n",
    "    new_word = lmtzr.lemmatize(deaccent(word.split('_')[0]))\n",
    "    new_skipgram_ru[new_word] = skipgram_ru[word]\n",
    "del skipgram_ru\n",
    "\n",
    "tfidf = TfidfVectorizer(\n",
    "       analyzer=u'word', ngram_range=(1, 3), tokenizer=None, use_idf=True,\n",
    "       max_features=10000, strip_accents=None, max_df=0.9, min_df=2, lowercase=False)\n",
    "\n",
    "def weighter(transformed, tfidf, new_skipgram_ru):\n",
    "    data = None\n",
    "    for i in range(transformed.shape[0]):\n",
    "        features = 0\n",
    "        for j, word in enumerate(tfidf.vocabulary_):\n",
    "            if word in new_skipgram_ru.keys():\n",
    "                features += new_skipgram_ru[word] * transformed[i, tfidf.vocabulary_[word]]\n",
    "        if data is None:\n",
    "            data = features\n",
    "        else:\n",
    "            data = np.vstack([data, features])\n",
    "    return data"
   ]
  },
  {
   "cell_type": "code",
   "execution_count": 116,
   "metadata": {},
   "outputs": [],
   "source": [
    "def dcg_at_k(r, k, method=0):\n",
    "    r = np.asfarray(r)[:k]\n",
    "    if r.size:\n",
    "        if method == 0:\n",
    "            return r[0] + np.sum(r[1:] / np.log2(np.arange(2, r.size + 1)))\n",
    "        elif method == 1:\n",
    "            return np.sum(r / np.log2(np.arange(2, r.size + 2)))\n",
    "        else:\n",
    "            raise ValueError('method must be 0 or 1.')\n",
    "    return 0.\n",
    "\n",
    "def ndcg_at_k(r, k=3, method=0):\n",
    "    dcg_max = dcg_at_k(sorted(r, reverse=True), k, method)\n",
    "    if not dcg_max:\n",
    "        return 0.\n",
    "    return dcg_at_k(r, k, method) / dcg_max"
   ]
  },
  {
   "cell_type": "code",
   "execution_count": 53,
   "metadata": {
    "collapsed": true
   },
   "outputs": [],
   "source": [
    "from sklearn.linear_model import Ridge\n",
    "from sklearn.model_selection import KFold"
   ]
  },
  {
   "cell_type": "code",
   "execution_count": 113,
   "metadata": {},
   "outputs": [],
   "source": [
    "nfolds = round(len(train) / len(test))\n",
    "\n",
    "lr = Ridge(alpha=3.0)\n",
    "cv = KFold(n_splits=nfolds, shuffle=True, random_state=42)"
   ]
  },
  {
   "cell_type": "code",
   "execution_count": 114,
   "metadata": {
    "scrolled": true
   },
   "outputs": [
    {
     "name": "stdout",
     "output_type": "stream",
     "text": [
      "make features...\n",
      "fitting model...\n",
      "make prediction...\n",
      "fold#1: ndcg = 85496\n",
      "make features...\n",
      "fitting model...\n",
      "make prediction...\n",
      "fold#2: ndcg = 85920\n",
      "make features...\n",
      "fitting model...\n",
      "make prediction...\n",
      "fold#3: ndcg = 85909\n",
      "make features...\n",
      "fitting model...\n",
      "make prediction...\n",
      "fold#4: ndcg = 86006\n",
      "make features...\n",
      "fitting model...\n",
      "make prediction...\n",
      "fold#5: ndcg = 85659\n",
      "make features...\n",
      "fitting model...\n",
      "make prediction...\n",
      "fold#6: ndcg = 85489\n",
      "make features...\n",
      "fitting model...\n",
      "make prediction...\n",
      "fold#7: ndcg = 86035\n",
      "make features...\n",
      "fitting model...\n",
      "make prediction...\n",
      "fold#8: ndcg = 85668\n",
      "make features...\n",
      "fitting model...\n",
      "make prediction...\n",
      "fold#9: ndcg = 85639\n",
      "make features...\n",
      "fitting model...\n",
      "make prediction...\n",
      "fold#10: ndcg = 85552\n",
      "averaged cv score: ndcg = 85737\n"
     ]
    }
   ],
   "source": [
    "fold = 1\n",
    "cv_score = 0\n",
    "for train_index, test_index in cv.split(train):\n",
    "    print('make features...')\n",
    "#     counters_pipe.fit(np.hstack([train[col].loc[train_index] for col in text_cols]))\n",
    "#     train_data = np.hstack([counters_pipe.transform(train[col].loc[train_index]) for col in text_cols])\n",
    "#     test_data = np.hstack([counters_pipe.transform(train[col].loc[test_index]) for col in text_cols])\n",
    "    \n",
    "    tfidf.fit(np.hstack([train[col].loc[train_index] for col in text_cols]))\n",
    "    train_data = np.hstack([weighter(tfidf.transform(train[col].loc[train_index]), tfidf, new_skipgram_ru) for col in text_cols])\n",
    "    test_data = np.hstack([weighter(tfidf.transform(train[col].loc[test_index]), tfidf, new_skipgram_ru) for col in text_cols])\n",
    "    \n",
    "    print('fitting model...')\n",
    "    lr.fit(train_data, train['target'].loc[train_index])\n",
    "\n",
    "    print('make prediction...')\n",
    "    prediction = pd.DataFrame()\n",
    "    prediction['context_id'] = train[0].loc[test_index]\n",
    "    prediction['reply_id'] = train[4].loc[test_index]\n",
    "    prediction['rank'] = - lr.predict(test_data)\n",
    "    prediction = prediction.sort_values(by=['context_id', 'rank'])[['context_id', 'reply_id']]\n",
    "    \n",
    "    score = 0\n",
    "    uniques = prediction['context_id'].unique()\n",
    "    for Id in uniques:\n",
    "        tmp = prediction[prediction['context_id'] == Id]['reply_id'].values.tolist()\n",
    "        score += ndcg_at_k(tmp, len(set(tmp))) / len(uniques)\n",
    "    score *= 100000\n",
    "    cv_score += score / nfolds\n",
    "    \n",
    "    print('fold#%i: ndcg = %i' % (fold, int(score)))\n",
    "    fold += 1\n",
    "print('averaged cv score: ndcg = %i' % (int(cv_score)))"
   ]
  },
  {
   "cell_type": "code",
   "execution_count": null,
   "metadata": {
    "collapsed": true
   },
   "outputs": [],
   "source": []
  },
  {
   "cell_type": "code",
   "execution_count": 95,
   "metadata": {},
   "outputs": [],
   "source": [
    "counters_pipe.fit(np.hstack([train[col] for col in text_cols]))\n",
    "train_data = np.hstack([counters_pipe.transform(train[col]) for col in text_cols])\n",
    "test_data = np.hstack([counters_pipe.transform(test[col]) for col in text_cols])\n",
    "\n",
    "lr.fit(train_data, train['target'])\n",
    "\n",
    "prediction = pd.DataFrame()\n",
    "prediction['context_id'] = test[0]\n",
    "prediction['reply_id'] = test[4]\n",
    "prediction['rank'] = - lr.predict(test_data)\n",
    "prediction = prediction.sort_values(by=['context_id', 'rank'])[['context_id', 'reply_id']]"
   ]
  },
  {
   "cell_type": "code",
   "execution_count": 96,
   "metadata": {
    "collapsed": true
   },
   "outputs": [],
   "source": [
    "prediction.to_csv(path+'/data/sub_1.tsv',header=None, index=False, sep=' ')"
   ]
  },
  {
   "cell_type": "code",
   "execution_count": 236,
   "metadata": {},
   "outputs": [],
   "source": [
    "train.to_csv(path+'/data/train_modified.tsv', sep=' ')"
   ]
  },
  {
   "cell_type": "code",
   "execution_count": 241,
   "metadata": {},
   "outputs": [],
   "source": [
    "train = pd.read_csv(path+'/data/train_modified.tsv', sep=' ', index_col=0)"
   ]
  },
  {
   "cell_type": "code",
   "execution_count": 242,
   "metadata": {},
   "outputs": [
    {
     "data": {
      "text/html": [
       "<div>\n",
       "<style>\n",
       "    .dataframe thead tr:only-child th {\n",
       "        text-align: right;\n",
       "    }\n",
       "\n",
       "    .dataframe thead th {\n",
       "        text-align: left;\n",
       "    }\n",
       "\n",
       "    .dataframe tbody tr th {\n",
       "        vertical-align: top;\n",
       "    }\n",
       "</style>\n",
       "<table border=\"1\" class=\"dataframe\">\n",
       "  <thead>\n",
       "    <tr style=\"text-align: right;\">\n",
       "      <th></th>\n",
       "      <th>0</th>\n",
       "      <th>1</th>\n",
       "      <th>2</th>\n",
       "      <th>3</th>\n",
       "      <th>4</th>\n",
       "      <th>5</th>\n",
       "      <th>6</th>\n",
       "      <th>7</th>\n",
       "      <th>rank</th>\n",
       "      <th>target</th>\n",
       "    </tr>\n",
       "  </thead>\n",
       "  <tbody>\n",
       "    <tr>\n",
       "      <th>0</th>\n",
       "      <td>22579918886</td>\n",
       "      <td>кликни на меня а потом на надпись \" видео - зв...</td>\n",
       "      <td>о , я тебя вижу .</td>\n",
       "      <td>ладно , повесь трубку .</td>\n",
       "      <td>0</td>\n",
       "      <td>не могу .</td>\n",
       "      <td>good</td>\n",
       "      <td>0.875352</td>\n",
       "      <td>3</td>\n",
       "      <td>2.626055</td>\n",
       "    </tr>\n",
       "    <tr>\n",
       "      <th>1</th>\n",
       "      <td>22579918886</td>\n",
       "      <td>кликни на меня а потом на надпись \" видео - зв...</td>\n",
       "      <td>о , я тебя вижу .</td>\n",
       "      <td>ладно , повесь трубку .</td>\n",
       "      <td>1</td>\n",
       "      <td>нет , звонить буду я .</td>\n",
       "      <td>neutral</td>\n",
       "      <td>0.900968</td>\n",
       "      <td>2</td>\n",
       "      <td>1.801936</td>\n",
       "    </tr>\n",
       "    <tr>\n",
       "      <th>2</th>\n",
       "      <td>22579918886</td>\n",
       "      <td>кликни на меня а потом на надпись \" видео - зв...</td>\n",
       "      <td>о , я тебя вижу .</td>\n",
       "      <td>ладно , повесь трубку .</td>\n",
       "      <td>2</td>\n",
       "      <td>слушай , я не мог уйти .</td>\n",
       "      <td>bad</td>\n",
       "      <td>0.884320</td>\n",
       "      <td>1</td>\n",
       "      <td>0.884320</td>\n",
       "    </tr>\n",
       "    <tr>\n",
       "      <th>3</th>\n",
       "      <td>22579918886</td>\n",
       "      <td>кликни на меня а потом на надпись \" видео - зв...</td>\n",
       "      <td>о , я тебя вижу .</td>\n",
       "      <td>ладно , повесь трубку .</td>\n",
       "      <td>3</td>\n",
       "      <td>я не прекращу звонить .</td>\n",
       "      <td>good</td>\n",
       "      <td>0.982530</td>\n",
       "      <td>3</td>\n",
       "      <td>2.947591</td>\n",
       "    </tr>\n",
       "    <tr>\n",
       "      <th>4</th>\n",
       "      <td>22579918886</td>\n",
       "      <td>кликни на меня а потом на надпись \" видео - зв...</td>\n",
       "      <td>о , я тебя вижу .</td>\n",
       "      <td>ладно , повесь трубку .</td>\n",
       "      <td>4</td>\n",
       "      <td>я звоню им .</td>\n",
       "      <td>good</td>\n",
       "      <td>0.838054</td>\n",
       "      <td>3</td>\n",
       "      <td>2.514161</td>\n",
       "    </tr>\n",
       "  </tbody>\n",
       "</table>\n",
       "</div>"
      ],
      "text/plain": [
       "             0                                                  1  \\\n",
       "0  22579918886  кликни на меня а потом на надпись \" видео - зв...   \n",
       "1  22579918886  кликни на меня а потом на надпись \" видео - зв...   \n",
       "2  22579918886  кликни на меня а потом на надпись \" видео - зв...   \n",
       "3  22579918886  кликни на меня а потом на надпись \" видео - зв...   \n",
       "4  22579918886  кликни на меня а потом на надпись \" видео - зв...   \n",
       "\n",
       "                   2                        3  4                         5  \\\n",
       "0  о , я тебя вижу .  ладно , повесь трубку .  0                 не могу .   \n",
       "1  о , я тебя вижу .  ладно , повесь трубку .  1    нет , звонить буду я .   \n",
       "2  о , я тебя вижу .  ладно , повесь трубку .  2  слушай , я не мог уйти .   \n",
       "3  о , я тебя вижу .  ладно , повесь трубку .  3   я не прекращу звонить .   \n",
       "4  о , я тебя вижу .  ладно , повесь трубку .  4              я звоню им .   \n",
       "\n",
       "         6         7  rank    target  \n",
       "0     good  0.875352     3  2.626055  \n",
       "1  neutral  0.900968     2  1.801936  \n",
       "2      bad  0.884320     1  0.884320  \n",
       "3     good  0.982530     3  2.947591  \n",
       "4     good  0.838054     3  2.514161  "
      ]
     },
     "execution_count": 242,
     "metadata": {},
     "output_type": "execute_result"
    }
   ],
   "source": [
    "train.head()"
   ]
  },
  {
   "cell_type": "code",
   "execution_count": null,
   "metadata": {
    "collapsed": true
   },
   "outputs": [],
   "source": []
  },
  {
   "cell_type": "code",
   "execution_count": 246,
   "metadata": {
    "collapsed": true
   },
   "outputs": [],
   "source": [
    "import matplotlib.pyplot as plt\n",
    "import seaborn\n",
    "%matplotlib inline"
   ]
  },
  {
   "cell_type": "code",
   "execution_count": null,
   "metadata": {
    "collapsed": true
   },
   "outputs": [],
   "source": [
    "results = {\n",
    "    'counter_char_ridge':[85700, ],\n",
    "    'counter_word_ridge':[85738, 84248],\n",
    "    'tfidf_word_ridge':[85774, 82714],\n",
    "    'counter_svd_ridge':,\n",
    "    'counter_tfidf_char_ridge':,\n",
    "    'counter_tfidf_char_lgbm':,\n",
    "    'w2v_tfidf_lgbm':,\n",
    "}"
   ]
  },
  {
   "cell_type": "code",
   "execution_count": null,
   "metadata": {
    "collapsed": true
   },
   "outputs": [],
   "source": []
  },
  {
   "cell_type": "code",
   "execution_count": null,
   "metadata": {
    "collapsed": true
   },
   "outputs": [],
   "source": []
  }
 ],
 "metadata": {
  "kernelspec": {
   "display_name": "Python 3",
   "language": "python",
   "name": "python3"
  },
  "language_info": {
   "codemirror_mode": {
    "name": "ipython",
    "version": 3
   },
   "file_extension": ".py",
   "mimetype": "text/x-python",
   "name": "python",
   "nbconvert_exporter": "python",
   "pygments_lexer": "ipython3",
   "version": "3.6.1"
  }
 },
 "nbformat": 4,
 "nbformat_minor": 2
}
